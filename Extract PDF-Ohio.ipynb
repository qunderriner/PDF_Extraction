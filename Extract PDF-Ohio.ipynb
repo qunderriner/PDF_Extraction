{
 "cells": [
  {
   "cell_type": "code",
   "execution_count": 3,
   "metadata": {},
   "outputs": [],
   "source": [
    "import os\n",
    "import pdfplumber\n",
    "import glob\n",
    "import re\n",
    "import pandas as pd\n",
    "import numpy as np"
   ]
  },
  {
   "cell_type": "markdown",
   "metadata": {},
   "source": [
    "### Extract affordable housing financing data from Ohio PDFs\n"
   ]
  },
  {
   "cell_type": "code",
   "execution_count": 4,
   "metadata": {},
   "outputs": [],
   "source": [
    "#filepath to PDFs\n",
    "filepath = 'Ohio 2019 Applications/'\n",
    "# create a list of filepaths \n",
    "files = glob.glob(filepath+\"*.pdf\", recursive = True)"
   ]
  },
  {
   "cell_type": "markdown",
   "metadata": {},
   "source": [
    "The pdf reader does not correctly extract tables from these documents, however it does pull data out in a relativley predictable pattern. Below I check for files that have the same structure - only 4 out of 121 do not, so instead of worry about the edge cases I store them in the list \"broken files\" and will deal with those manually."
   ]
  },
  {
   "cell_type": "code",
   "execution_count": 109,
   "metadata": {},
   "outputs": [
    {
     "name": "stdout",
     "output_type": "stream",
     "text": [
      "Ohio 2019 Applications/MayflowerManor.pdf (56, 14)\n",
      "Ohio 2019 Applications/BerwynEastPlace.pdf (25, 9)\n",
      "Ohio 2019 Applications/AppleseedSeniorApartments.pdf (35, 14)\n",
      "Ohio 2019 Applications/SW-DetroitShorewayHomes.pdf (35, 13)\n"
     ]
    }
   ],
   "source": [
    "for file in files:\n",
    "    pdf = pdfplumber.open(file)\n",
    "    #print(len(pdf.pages[0].extract_tables()[0]))\n",
    "    df = pd.DataFrame(pdf.pages[0].extract_tables()[0])\n",
    "    if df.shape[0] > 40 and df.iloc[37].values[1] == 'Construction Financing Sources':\n",
    "        continue\n",
    "    else:\n",
    "        print(file, df.shape)"
   ]
  },
  {
   "cell_type": "code",
   "execution_count": 111,
   "metadata": {},
   "outputs": [],
   "source": [
    "broken_files = [\"Ohio 2019 Applications/MayflowerManor.pdf\",\n",
    "\"Ohio 2019 Applications/BerwynEastPlace.pdf\",\n",
    "\"Ohio 2019 Applications/AppleseedSeniorApartments.pdf\",\n",
    "\"Ohio 2019 Applications/SW-DetroitShorewayHomes.pdf\"]\n",
    "\n",
    "files = list(set(files) - set(broken_files)) #remove broken files from master set of files "
   ]
  },
  {
   "cell_type": "code",
   "execution_count": 126,
   "metadata": {},
   "outputs": [],
   "source": [
    "def scrape_ohio(files):\n",
    "    \"\"\"\n",
    "    Inputs:\n",
    "        Files (list): List of full filepaths to the PDFs for Virginia. \n",
    "    This file notices that while the extract table function of the PDF reader does not exactly work\n",
    "    in capturing the correct tables, the data follows a similar pattern and so it slices into \n",
    "    the files and grabs the relevent info from \"Construction Financing Sources\" \n",
    "    and \"Permenant Financing Sources\"\n",
    "    \"\"\"\n",
    "    money = []\n",
    "    for file in files:\n",
    "        pdf = pdfplumber.open(file)\n",
    "        df = pd.DataFrame(pdf.pages[0].extract_tables()[0])\n",
    "        money_type = df.loc[37,1] #construction\n",
    "        file_name = re.split(\"/\", file)[-1] #regex to pull the filename from the filepath\n",
    "        file_name = file_name[0:-4]\n",
    "\n",
    "        for row in df[38:][1]:\n",
    "            if 'TOTAL' in row:\n",
    "                break\n",
    "            else:\n",
    "                money.append([x.strip() for x in row.split('$')]+[money_type]+[file_name])\n",
    "        money_type = df.loc[37,6] #permanent\n",
    "        for row in df[38:][6]:\n",
    "            if 'TOTAL' in row:\n",
    "                break\n",
    "            else:\n",
    "                money.append([x.strip() for x in row.split('$')]+[money_type]+[file_name])\n",
    "\n",
    "    money_df = pd.DataFrame(money, columns=['Source',\"Amount of Funds\",\"Funding Type\",\"File Name\"])\n",
    "    money_df = money_df[~money_df[\"Amount of Funds\"].str.contains(\"-\")] #drop the blanks \n",
    "    \n",
    "    return money_df "
   ]
  },
  {
   "cell_type": "code",
   "execution_count": 136,
   "metadata": {},
   "outputs": [],
   "source": [
    "#drop duplicates \n",
    "df1 = df[~df[\"File Name\"].str.contains(\"(1)\")]\n",
    "df = pd.read_csv(\"Ohio_scraped_financing_info.csv\")"
   ]
  },
  {
   "cell_type": "code",
   "execution_count": 144,
   "metadata": {},
   "outputs": [],
   "source": [
    "#write to csv\n",
    "df1.to_csv(\"Ohio_scraped_financing_info.csv\")"
   ]
  }
 ],
 "metadata": {
  "kernelspec": {
   "display_name": "Python 3",
   "language": "python",
   "name": "python3"
  },
  "language_info": {
   "codemirror_mode": {
    "name": "ipython",
    "version": 3
   },
   "file_extension": ".py",
   "mimetype": "text/x-python",
   "name": "python",
   "nbconvert_exporter": "python",
   "pygments_lexer": "ipython3",
   "version": "3.7.2"
  }
 },
 "nbformat": 4,
 "nbformat_minor": 2
}
