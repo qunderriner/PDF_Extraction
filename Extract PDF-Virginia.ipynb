{
 "cells": [
  {
   "cell_type": "code",
   "execution_count": 1,
   "metadata": {},
   "outputs": [],
   "source": [
    "import os\n",
    "import pdfplumber\n",
    "import glob\n",
    "import re\n",
    "import pandas as pd\n",
    "import numpy as np"
   ]
  },
  {
   "cell_type": "markdown",
   "metadata": {},
   "source": [
    "### Extract affordable housing financing data from Virginia PDFs"
   ]
  },
  {
   "cell_type": "code",
   "execution_count": null,
   "metadata": {},
   "outputs": [],
   "source": [
    "#filepath to PDFs\n",
    "filepath = 'financials/Virgina 2019 Applications/'\n",
    "# create a list of filepaths \n",
    "files = glob.glob(filepath+\"*.pdf\", recursive = True)"
   ]
  },
  {
   "cell_type": "code",
   "execution_count": 160,
   "metadata": {},
   "outputs": [],
   "source": [
    "def extract_from_pdf(files):\n",
    "    \"\"\"\n",
    "    Inputs:\n",
    "        Files (list): List of full filepaths to the PDFs for Virginia. \n",
    "    \n",
    "    This function go through each PDF to search for the first page to mention SOURCE\n",
    "    OF FUNDS to extract the related data. To speed up the process to not look through entire \n",
    "    PDF here I just look through pages 34-41 which seems to be where these table live. \n",
    "    It then seperates out the four different charts construction_financing, permanent_financing,\n",
    "    grants and subsidized_financing into distinct units and calls the populate table function.\n",
    "    \"\"\"\n",
    "    cols = ['Source', 'Term (Months)', 'Interest Rate',\" Amount of Funds\",\"Funding Type\",\"File Name\"]\n",
    "    final_df = []\n",
    "    for file in files:\n",
    "        try:\n",
    "            pdf = pdfplumber.open(file)\n",
    "            for i in range(34, 41):\n",
    "                if \"SOURCES OF FUNDS\" in pdf.pages[i].extract_text(x_tolerance=3, y_tolerance=3).replace('\\xa0', ' '):\n",
    "                    page1 = pdf.pages[i].extract_tables()\n",
    "                    page2 = pdf.pages[i+1].extract_table()\n",
    "                    break\n",
    "            construction_financing = page1[0]\n",
    "            permanent_financing = page1[1]\n",
    "            grants = page1[2]\n",
    "            if len(page1) > 3: #this check is needed because sometimes the charts split across pages \n",
    "                subsidized_financing = page1[3] + page2\n",
    "            else:\n",
    "                subsidized_financing = page2\n",
    "\n",
    "            big_rows = populate_table(construction_financing,permanent_financing,grants,subsidized_financing,file)\n",
    "            final_df += big_rows   \n",
    "        except Exception as e:\n",
    "            print(file, e)\n",
    "    return pd.DataFrame(final_df, columns=cols)\n",
    "    \n",
    "def populate_table(constuction_financing,permanent_financing,grants,subsidized_financing,file):\n",
    "    \"\"\"\n",
    "    Inputs:\n",
    "        constuction_financing (list): Extracted tables in list form \n",
    "        permanent_financing (list): Extracted tables in list form \n",
    "        grants (list): Extracted tables in list form \n",
    "        subsidized_financing (list): Extracted tables in list form \n",
    "        file (str): filename \n",
    "        \n",
    "    This file takes the extracted financing tables and enumerates over them to index in and \n",
    "    pulls out the relevent data. \n",
    "    \"\"\"\n",
    "    \n",
    "    \n",
    "    file_name = re.split(\"/\", file)[-1] #regex to pull the filename from the filepath\n",
    "    file_name = file_name[0:-7]\n",
    "    \n",
    "    rows = []\n",
    "    constuction_financing = constuction_financing[1:len(constuction_financing)-1] #drop col name row and totals row \n",
    "    for i, row in enumerate(constuction_financing):\n",
    "        if len(constuction_financing[i][1]) > 1: #check if row exists\n",
    "            new_row = [row[1], 'n/a', 'n/a', row[4],\"Construction Financing\",file_name]\n",
    "            rows.append(new_row)\n",
    "        else:\n",
    "            continue \n",
    "    \n",
    "    permanent_financing = permanent_financing[1:len(permanent_financing)-1]\n",
    "    for i, row in enumerate(permanent_financing):  \n",
    "            if len(permanent_financing[i][-1]) > 1:\n",
    "                new_row = [row[1], float(row[8])*12, row[6], row[4],\"Permanent Financing\",file_name]\n",
    "                rows.append(new_row)\n",
    "            else:\n",
    "                continue\n",
    "                \n",
    "    grants = grants[1:len(grants)-1]\n",
    "    for i, row in enumerate(grants):\n",
    "        if grants[i][1]:\n",
    "            new_row = [row[1], 'n/a', 'n/a', row[4], \"Grants\",file_name]\n",
    "            rows.append(new_row)\n",
    " \n",
    "            \n",
    "    subsidized_financing = subsidized_financing[1:len(subsidized_financing)-1]        \n",
    "    for i, row in enumerate(subsidized_financing):\n",
    "        if subsidized_financing[i][1]:\n",
    "            new_row = [row[1], 'n/a', 'n/a', row[-1],\"Subsidized Financing\",file_name]\n",
    "            rows.append(new_row)\n",
    "        else:\n",
    "            continue\n",
    "            \n",
    "    return rows\n",
    "    "
   ]
  },
  {
   "cell_type": "markdown",
   "metadata": {},
   "source": [
    "These six files below have errors that seem not worth the time to fix. The \"Cannot convert None to Decimal.\"\n",
    "error seems like a known problem for the pdfplumber package that a patch has not yet been released for\n",
    "and the two other edge cases are not worth the time, I'll add these six manually to the file. "
   ]
  },
  {
   "cell_type": "code",
   "execution_count": 162,
   "metadata": {},
   "outputs": [
    {
     "name": "stdout",
     "output_type": "stream",
     "text": [
      "Virgina 2019 Applications/Friendship-Courtnew.pdf list index out of range\n",
      "Virgina 2019 Applications/Holley-Pointenew.pdf Cannot convert None to Decimal.\n",
      "Virgina 2019 Applications/Brady-Squarenew.pdf could not convert string to float: 'l,.._'\n",
      "Virgina 2019 Applications/Luray-Village.pdf 'NoneType' object has no attribute 'replace'\n",
      "Virgina 2019 Applications/Joyner-Greenenew.pdf Cannot convert None to Decimal.\n",
      "Virgina 2019 Applications/Churc-Hill-Northnew.pdf Cannot convert None to Decimal.\n"
     ]
    }
   ],
   "source": [
    "df = extract_from_pdf(files)"
   ]
  },
  {
   "cell_type": "code",
   "execution_count": 163,
   "metadata": {},
   "outputs": [],
   "source": [
    "#write out the good files to csv\n",
    "df.to_csv('most_files_virginia.csv', index=False)"
   ]
  }
 ],
 "metadata": {
  "kernelspec": {
   "display_name": "Python 3",
   "language": "python",
   "name": "python3"
  },
  "language_info": {
   "codemirror_mode": {
    "name": "ipython",
    "version": 3
   },
   "file_extension": ".py",
   "mimetype": "text/x-python",
   "name": "python",
   "nbconvert_exporter": "python",
   "pygments_lexer": "ipython3",
   "version": "3.7.2"
  }
 },
 "nbformat": 4,
 "nbformat_minor": 2
}
