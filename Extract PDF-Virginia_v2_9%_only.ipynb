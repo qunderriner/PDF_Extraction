{
 "cells": [
  {
   "cell_type": "code",
   "execution_count": 3,
   "metadata": {},
   "outputs": [],
   "source": [
    "import os\n",
    "import pdfplumber\n",
    "import glob\n",
    "import re\n",
    "import pandas as pd\n",
    "import numpy as np"
   ]
  },
  {
   "cell_type": "markdown",
   "metadata": {},
   "source": [
    "### Extract affordable housing financing data from Virginia PDFs"
   ]
  },
  {
   "cell_type": "code",
   "execution_count": 7,
   "metadata": {},
   "outputs": [],
   "source": [
    "#filepath to PDFs\n",
    "filepath = 'financials/Virgina 2019 Applications/'\n",
    "# create a list of filepaths \n",
    "files = glob.glob(filepath+\"*.pdf\", recursive = True)"
   ]
  },
  {
   "cell_type": "code",
   "execution_count": 8,
   "metadata": {
    "collapsed": true
   },
   "outputs": [
    {
     "data": {
      "text/plain": [
       "['financials/Virgina 2019 Applications/King-William-Manornew.pdf',\n",
       " 'financials/Virgina 2019 Applications/Blairs-Schoolnew.pdf',\n",
       " 'financials/Virgina 2019 Applications/Fairlington-Presbyteriannew.pdf',\n",
       " 'financials/Virgina 2019 Applications/Mountain-Laurel-ManorIIInew.pdf',\n",
       " 'financials/Virgina 2019 Applications/Laurel-Ridge.pdf',\n",
       " 'financials/Virgina 2019 Applications/Groom-Schoolnew.pdf',\n",
       " 'financials/Virgina 2019 Applications/Crescent-Hallsnew.pdf',\n",
       " 'financials/Virgina 2019 Applications/Coilenew.pdf',\n",
       " 'financials/Virgina 2019 Applications/Senseny-Placenew.pdf',\n",
       " 'financials/Virgina 2019 Applications/Friendship-Courtnew.pdf',\n",
       " 'financials/Virgina 2019 Applications/Post-West-Ninenew.pdf',\n",
       " 'financials/Virgina 2019 Applications/Mt.-Sterlingnew.pdf',\n",
       " 'financials/Virgina 2019 Applications/Lassiter-Courtsnew.pdf',\n",
       " 'financials/Virgina 2019 Applications/Knightsbridgenew.pdf',\n",
       " 'financials/Virgina 2019 Applications/Birch-Islandnew.pdf',\n",
       " 'financials/Virgina 2019 Applications/Maury-River-Placenew.pdf',\n",
       " 'financials/Virgina 2019 Applications/Windsor-Courtnew.pdf',\n",
       " 'financials/Virgina 2019 Applications/Market-Heightsnew.pdf',\n",
       " 'financials/Virgina 2019 Applications/Cool-Lanenew.pdf',\n",
       " 'financials/Virgina 2019 Applications/Mountain-Laurel-Manornew.pdf',\n",
       " 'financials/Virgina 2019 Applications/Spratley-Housenew.pdf',\n",
       " 'financials/Virgina 2019 Applications/Cecelia-Housenew.pdf',\n",
       " 'financials/Virgina 2019 Applications/Laurel-Ridgenew.pdf',\n",
       " 'financials/Virgina 2019 Applications/Arrowbrooknew.pdf',\n",
       " 'financials/Virgina 2019 Applications/Bickerstaff-Crossin-2019new.pdf',\n",
       " 'financials/Virgina 2019 Applications/Hanovernew.pdf',\n",
       " 'financials/Virgina 2019 Applications/Holley-Pointenew.pdf',\n",
       " 'financials/Virgina 2019 Applications/Brady-Squarenew.pdf',\n",
       " 'financials/Virgina 2019 Applications/Kilmarnock-Villagenew.pdf',\n",
       " 'financials/Virgina 2019 Applications/South-First-Streetnew.pdf',\n",
       " 'financials/Virgina 2019 Applications/Marvin-Gardensnew.pdf',\n",
       " 'financials/Virgina 2019 Applications/Luray-Village.pdf',\n",
       " 'financials/Virgina 2019 Applications/Oakland-Pointenew.pdf',\n",
       " 'financials/Virgina 2019 Applications/Courthouse-Lanenew.pdf',\n",
       " 'financials/Virgina 2019 Applications/Powhatan-Terracenew.pdf',\n",
       " 'financials/Virgina 2019 Applications/Steeplechase-Manornew.pdf',\n",
       " 'financials/Virgina 2019 Applications/White-Marshnew.pdf',\n",
       " 'financials/Virgina 2019 Applications/Poplar-Creeknew.pdf',\n",
       " 'financials/Virgina 2019 Applications/Brook-Villasnew.pdf',\n",
       " 'financials/Virgina 2019 Applications/Grande-Oaknew.pdf',\n",
       " 'financials/Virgina 2019 Applications/1218-Park_Newnew.pdf',\n",
       " 'financials/Virgina 2019 Applications/Cross-Creeknew.pdf',\n",
       " 'financials/Virgina 2019 Applications/Luray-Villagenew.pdf',\n",
       " 'financials/Virgina 2019 Applications/Riverside-Stationnew.pdf',\n",
       " 'financials/Virgina 2019 Applications/Carlton-Views-IIInew.pdf',\n",
       " 'financials/Virgina 2019 Applications/PABPnew.pdf',\n",
       " 'financials/Virgina 2019 Applications/Magnolia-Placenew.pdf',\n",
       " 'financials/Virgina 2019 Applications/Joyner-Greenenew.pdf',\n",
       " 'financials/Virgina 2019 Applications/Carrier-Point-Inew.pdf',\n",
       " 'financials/Virgina 2019 Applications/Churc-Hill-Northnew.pdf',\n",
       " 'financials/Virgina 2019 Applications/Daffodil-Gardensnew.pdf']"
      ]
     },
     "execution_count": 8,
     "metadata": {},
     "output_type": "execute_result"
    }
   ],
   "source": [
    "files"
   ]
  },
  {
   "cell_type": "code",
   "execution_count": 14,
   "metadata": {},
   "outputs": [],
   "source": [
    "test = \"1218-Park_Newnew.pdf\""
   ]
  },
  {
   "cell_type": "code",
   "execution_count": 15,
   "metadata": {},
   "outputs": [],
   "source": [
    "pdf = pdfplumber.open(test)"
   ]
  },
  {
   "cell_type": "code",
   "execution_count": 16,
   "metadata": {},
   "outputs": [
    {
     "data": {
      "text/plain": [
       "<pdfplumber.pdf.PDF at 0x11ad6c438>"
      ]
     },
     "execution_count": 16,
     "metadata": {},
     "output_type": "execute_result"
    }
   ],
   "source": [
    "pdf"
   ]
  },
  {
   "cell_type": "code",
   "execution_count": 17,
   "metadata": {},
   "outputs": [],
   "source": [
    "page2 = pdf.pages[37].extract_tables()"
   ]
  },
  {
   "cell_type": "code",
   "execution_count": 23,
   "metadata": {},
   "outputs": [
    {
     "data": {
      "text/plain": [
       "[['Taxable\\xa0Bonds', None, '$400,000'],\n",
       " ['Section\\xa0220', None, '$0'],\n",
       " ['Section\\xa0221(d)(3)', None, '$0'],\n",
       " ['Section\\xa0221(d)(4)', None, '$0'],\n",
       " ['Section\\xa0236', None, '$0'],\n",
       " ['Section\\xa0223(f)', None, '$0'],\n",
       " ['Other:', '', '$0'],\n",
       " [None, '', '']]"
      ]
     },
     "execution_count": 23,
     "metadata": {},
     "output_type": "execute_result"
    }
   ],
   "source": [
    "page2[3]"
   ]
  },
  {
   "cell_type": "code",
   "execution_count": 160,
   "metadata": {},
   "outputs": [],
   "source": [
    "def extract_from_pdf(files):\n",
    "    \"\"\"\n",
    "    Inputs:\n",
    "        Files (list): List of full filepaths to the PDFs for Virginia. \n",
    "    \n",
    "    This function go through each PDF to search for the first page to mention SOURCE\n",
    "    OF FUNDS to extract the related data. To speed up the process to not look through entire \n",
    "    PDF here I just look through pages 34-41 which seems to be where these table live. \n",
    "    It then seperates out the four different charts construction_financing, permanent_financing,\n",
    "    grants and subsidized_financing into distinct units and calls the populate table function.\n",
    "    \"\"\"\n",
    "    cols = ['Source', 'Term (Months)', 'Interest Rate',\" Amount of Funds\",\"Funding Type\",\"File Name\"]\n",
    "    final_df = []\n",
    "    for file in files:\n",
    "        try:\n",
    "            pdf = pdfplumber.open(file)\n",
    "            for i in range(34, 41):\n",
    "                if \"SOURCES OF FUNDS\" in pdf.pages[i].extract_text(x_tolerance=3, y_tolerance=3).replace('\\xa0', ' '):\n",
    "                    page1 = pdf.pages[i].extract_tables()\n",
    "                    page2 = pdf.pages[i+1].extract_tables()\n",
    "                    break\n",
    "            construction_financing = page1[0]\n",
    "            permanent_financing = page1[1]\n",
    "            grants = page1[2]\n",
    "            if len(page1) > 3: #this check is needed because sometimes the charts split across pages \n",
    "                subsidized_financing = page1[3] + page2[0]\n",
    "                below_market_Loans\n",
    "            else:\n",
    "                subsidized_financing = page2[0]\n",
    "                \n",
    "\n",
    "            big_rows = populate_table(construction_financing,permanent_financing,grants,subsidized_financing,file)\n",
    "            final_df += big_rows   \n",
    "        except Exception as e:\n",
    "            print(file, e)\n",
    "    return pd.DataFrame(final_df, columns=cols)\n",
    "    \n",
    "def populate_table(constuction_financing,permanent_financing,grants,subsidized_financing,file):\n",
    "    \"\"\"\n",
    "    Inputs:\n",
    "        constuction_financing (list): Extracted tables in list form \n",
    "        permanent_financing (list): Extracted tables in list form \n",
    "        grants (list): Extracted tables in list form \n",
    "        subsidized_financing (list): Extracted tables in list form \n",
    "        file (str): filename \n",
    "        \n",
    "    This file takes the extracted financing tables and enumerates over them to index in and \n",
    "    pulls out the relevent data. \n",
    "    \"\"\"\n",
    "    \n",
    "    \n",
    "    file_name = re.split(\"/\", file)[-1] #regex to pull the filename from the filepath\n",
    "    file_name = file_name[0:-7]\n",
    "    \n",
    "    rows = []\n",
    "    constuction_financing = constuction_financing[1:len(constuction_financing)-1] #drop col name row and totals row \n",
    "    for i, row in enumerate(constuction_financing):\n",
    "        if len(constuction_financing[i][1]) > 1: #check if row exists\n",
    "            new_row = [row[1], 'n/a', 'n/a', row[4],\"Construction Financing\",file_name]\n",
    "            rows.append(new_row)\n",
    "        else:\n",
    "            continue \n",
    "    \n",
    "    permanent_financing = permanent_financing[1:len(permanent_financing)-1]\n",
    "    for i, row in enumerate(permanent_financing):  \n",
    "            if len(permanent_financing[i][-1]) > 1:\n",
    "                new_row = [row[1], float(row[8])*12, row[6], row[4],\"Permanent Financing\",file_name]\n",
    "                rows.append(new_row)\n",
    "            else:\n",
    "                continue\n",
    "                \n",
    "    grants = grants[1:len(grants)-1]\n",
    "    for i, row in enumerate(grants):\n",
    "        if grants[i][1]:\n",
    "            new_row = [row[1], 'n/a', 'n/a', row[4], \"Grants\",file_name]\n",
    "            rows.append(new_row)\n",
    " \n",
    "            \n",
    "    subsidized_financing = subsidized_financing[1:len(subsidized_financing)-1]        \n",
    "    for i, row in enumerate(subsidized_financing):\n",
    "        if subsidized_financing[i][1]:\n",
    "            new_row = [row[1], 'n/a', 'n/a', row[-1],\"Subsidized Financing\",file_name]\n",
    "            rows.append(new_row)\n",
    "        else:\n",
    "            continue\n",
    "            \n",
    "    return rows\n",
    "    "
   ]
  },
  {
   "cell_type": "markdown",
   "metadata": {},
   "source": [
    "These six files below have errors that seem not worth the time to fix. The \"Cannot convert None to Decimal.\"\n",
    "error seems like a known problem for the pdfplumber package that a patch has not yet been released for\n",
    "and the two other edge cases are not worth the time, I'll add these six manually to the file. "
   ]
  },
  {
   "cell_type": "code",
   "execution_count": 162,
   "metadata": {},
   "outputs": [
    {
     "name": "stdout",
     "output_type": "stream",
     "text": [
      "Virgina 2019 Applications/Friendship-Courtnew.pdf list index out of range\n",
      "Virgina 2019 Applications/Holley-Pointenew.pdf Cannot convert None to Decimal.\n",
      "Virgina 2019 Applications/Brady-Squarenew.pdf could not convert string to float: 'l,.._'\n",
      "Virgina 2019 Applications/Luray-Village.pdf 'NoneType' object has no attribute 'replace'\n",
      "Virgina 2019 Applications/Joyner-Greenenew.pdf Cannot convert None to Decimal.\n",
      "Virgina 2019 Applications/Churc-Hill-Northnew.pdf Cannot convert None to Decimal.\n"
     ]
    }
   ],
   "source": [
    "df = extract_from_pdf(files)"
   ]
  },
  {
   "cell_type": "code",
   "execution_count": 163,
   "metadata": {},
   "outputs": [],
   "source": [
    "#write out the good files to csv\n",
    "df.to_csv('most_files_virginia.csv', index=False)"
   ]
  },
  {
   "cell_type": "code",
   "execution_count": 172,
   "metadata": {},
   "outputs": [],
   "source": [
    "#Now need to filter for only the projects that got funded\n",
    "#I just manually grabbed from this list, not worth the time to code it up https://www.vhda.com/BusinessPartners/MFDevelopers/LIHTCProgram/LowIncome%20Housing%20Tax%20Credit%20Program/2019%20final%20Rankings-Board%20approved.pdf\n",
    "df = pd.read_csv(\"Virginia_scraped_financing_info.csv\")"
   ]
  },
  {
   "cell_type": "code",
   "execution_count": 173,
   "metadata": {},
   "outputs": [
    {
     "name": "stderr",
     "output_type": "stream",
     "text": [
      "/Users/quinnunderriner/anaconda3/lib/python3.7/site-packages/ipykernel_launcher.py:50: SettingWithCopyWarning: \n",
      "A value is trying to be set on a copy of a slice from a DataFrame.\n",
      "Try using .loc[row_indexer,col_indexer] = value instead\n",
      "\n",
      "See the caveats in the documentation: https://pandas.pydata.org/pandas-docs/stable/user_guide/indexing.html#returning-a-view-versus-a-copy\n"
     ]
    }
   ],
   "source": [
    "#list of failed, some duplicates so call a set  \n",
    "drop_me = [\"Bickerstaff-Crossin-2019\",\n",
    "           \"White Marsh\",\n",
    "\"Church Hill North\",\n",
    "\"Carrier Point I\",\n",
    "'Mountain Laurel Manor III',\n",
    "'Cecelia House',\n",
    "'Steeplechase Manor',\n",
    "'Mountain Laurel Manor',\n",
    "'Luray Village',\n",
    "'The Heights at Brady Square',\n",
    "'Bickerstaff Crossing',\n",
    "'Hanover Apartments',\n",
    "'Birch Island',\n",
    "'King William Manor',\n",
    "'Courthouse Lane',\n",
    "'Holley Pointe',\n",
    "'Coile',\n",
    "'Grande Oak',\n",
    "'Oakland Pointe',\n",
    "'Riverside Station',\n",
    "'Windsor Court',\n",
    "'Magnolia Place',\n",
    "'Joyner Greene',\n",
    "'Marvin Gardens',\n",
    "'1218-Park_New',\n",
    "'Steeplechase Manor',\n",
    "'Hanover',\n",
    "'Mountain Laurel Manor III',\n",
    "'Grande Oak',\n",
    "'Cecelia House',\n",
    "'Birch Island Apartments',\n",
    "'Oakland Pointe',\n",
    "'Bickerstaff Crossing',\n",
    "'Windsor Court II',\n",
    "'Mountain Laurel Manor',\n",
    "'Riverside Station',\n",
    "'King William Manor',\n",
    "'Courthouse Lane',\n",
    "'Luray Village',\n",
    "'Magnolia Place']\n",
    "set(drop_me)\n",
    "\n",
    "df[\"File Name\"] = df[\"File Name\"].str[:-3]#all the file names had \"new\" at the end of the name, removing that\n",
    "drop_me = pd.Series(drop_me)\n",
    "#so now, need to add dashes to the drop me file so that things match \n",
    "drop_me = drop_me.str.replace('\\xa0', '-') #replace spaces with a dash so that names can be matched to make a tilter \n",
    "drop_me = drop_me.append(pd.Series(\"Mountain-Laurel-ManorIII\"))#one edge case of dash in wrong palce \n",
    "df2 = df[~df[\"File Name\"].isin(drop_me)]#filter out the non 9 percent accepted applications \n",
    "df2[\"File Name\"] = df2[\"File Name\"].dropna()"
   ]
  },
  {
   "cell_type": "code",
   "execution_count": 175,
   "metadata": {},
   "outputs": [],
   "source": [
    "#this filters out duplicates that have the same file name and the same amount of funds associated, \n",
    "#and if this is the case, it keeps the funding type permanent finacing, as that contains more info on interest amount\n",
    "df2 = df2[~df2.duplicated([\"File Name\", \"Amount of Funds\"], keep=False) | df2[\"Funding Type\"].eq(\"Permanent Financing\")]"
   ]
  },
  {
   "cell_type": "code",
   "execution_count": 177,
   "metadata": {},
   "outputs": [
    {
     "data": {
      "text/plain": [
       "array(['Arrowbrook', 'Blairs-School', 'Brady-Square', 'Brook-Villas',\n",
       "       'Carlton-Views-III', 'Cool-Lane', 'Crescent-Halls', 'Cross-Creek',\n",
       "       'Daffodil-Gardens', 'Fairlington-Presbyterian', 'Friendship-Court',\n",
       "       'Groom-School', 'Holley-Point', 'Kilmarnock-Village',\n",
       "       'Knightsbridge', 'Lassiter-Courts', 'Laurel-Ridge',\n",
       "       'Market-Heights', 'Maury-River-Place', 'Mt.-Sterling', 'PABP',\n",
       "       'Poplar-Creek', 'Post-West-Nine', 'Powhatan-Terrace',\n",
       "       'Senseny-Place', 'South-First-Street', 'Spratley-House'],\n",
       "      dtype=object)"
      ]
     },
     "execution_count": 177,
     "metadata": {},
     "output_type": "execute_result"
    }
   ],
   "source": [
    "#double check against list \n",
    "np.sort(df2[\"File Name\"].dropna().unique())"
   ]
  },
  {
   "cell_type": "code",
   "execution_count": 178,
   "metadata": {},
   "outputs": [],
   "source": [
    "df2.to_csv(\"Virginia_approved_9%_applications.csv\")"
   ]
  },
  {
   "cell_type": "code",
   "execution_count": 190,
   "metadata": {},
   "outputs": [],
   "source": [
    "df2 = pd.read_csv(\"Virginia_approved_9%_applications.csv\")"
   ]
  },
  {
   "cell_type": "code",
   "execution_count": 194,
   "metadata": {},
   "outputs": [],
   "source": [
    "df2[\"Source\"] = df2[\"Source\"].str.replace('\\xa0', ' ')\n",
    "df2[\"Source\"] = df2[\"Source\"].str.replace(' - ', ' ')\n",
    "df2[\"Source\"] = df2[\"Source\"].str.replace('-', ' ')"
   ]
  },
  {
   "cell_type": "code",
   "execution_count": 200,
   "metadata": {},
   "outputs": [
    {
     "data": {
      "text/plain": [
       "VHDA REACH             10\n",
       "TBD                     9\n",
       "VHDA SPARC              5\n",
       "DHCD HOME               4\n",
       "VHDA                    4\n",
       "                       ..\n",
       "Merchants Bank          1\n",
       "BB&T                    1\n",
       "VHDA SIP                1\n",
       "Local Fdtn              1\n",
       "Sponsor Loan (FHLB)     1\n",
       "Name: Source, Length: 79, dtype: int64"
      ]
     },
     "execution_count": 200,
     "metadata": {},
     "output_type": "execute_result"
    }
   ],
   "source": [
    "df2[\"Source\"].value_counts()"
   ]
  },
  {
   "cell_type": "code",
   "execution_count": 197,
   "metadata": {},
   "outputs": [
    {
     "data": {
      "text/plain": [
       "array(['First Citizens Bank', 'VHDA REACH', 'VHDA TAXABLE',\n",
       "       'Donation of Property', 'First Mortgage', 'Alexandria City Loan',\n",
       "       'DHCD HOME', 'Town of South Hill', 'TBD', 'VHDA SPARC',\n",
       "       'DHCD (AHTF)', 'Sponsor Loan (FHLB)',\n",
       "       'Sponsor Loan (City of Charlottesville)', 'Sponsor Loan (CCF)',\n",
       "       'VHDA Const. Loan', 'VHDA Taxable', 'VHTF/Sponsor Loan',\n",
       "       'Construction & Bridge Loan Equity LP', 'VHDA Debt', 'AHIF',\n",
       "       'American Legion Seller No', 'Bridge Loan', 'Tax Credit Equity',\n",
       "       'VHDA Perm', 'Loudoun County HTF', 'Permit Fee Waiver',\n",
       "       'Access National Bank', 'DHCD National Trust Fund',\n",
       "       'Sponsor Loan (Leashold Interest Seller N',\n",
       "       'Sponsor Loan (City HOME Funds)', 'Sponsor Loan (RH Factor)',\n",
       "       'Sponsor Loan (PH Operating Reserves)',\n",
       "       'Sponsor Loan (NNRHA Development Resources)', 'Housing',\n",
       "       'Sponsor Subsidy Financing', 'RD 515', 'VHDA',\n",
       "       'VHDA REACH Loan/MUMI', 'DHCD NHTF', 'DHCD VHTF',\n",
       "       'Henrico CDBG/ HOME', 'Richmond CDBG/ HOME/',\n",
       "       'Chesterfield CDBG/ HOME', 'FHLB of Atlanta',\n",
       "       'Bon Secours/ VCU Health', 'MUMI', 'Donated Land/ Building',\n",
       "       'Sponsor Loan (NNRHA Resources)', 'M&T Bank', 'Housing Blueprint',\n",
       "       'Below‐Market Ground Lease', 'USDA PRLF', 'FHTF', 'USDA RD',\n",
       "       'FHLB', 'Sponsor Loan (Seller Note)', 'DHCD HOME/VHTF',\n",
       "       'Local Fdtn', 'FHLBA', 'FHLB AHP', 'DHCD Planning Grant',\n",
       "       'Donated Land', 'BB&T', 'Bank of America', 'VHDA Match',\n",
       "       '12/15/19', 'VHDA  Taxable', 'VHDA SIP',\n",
       "       'Bay Aging ‐ land donation', 'Charlottesville Grants',\n",
       "       'Sponsor Loan', 'Merchants Bank', 'Merchants Capital',\n",
       "       'Valhalla Mortgage, LLC', 'VHDA Taxable Bonds', 'REACH',\n",
       "       'Taxable REACH', 'RRHA Seller Note',\n",
       "       'TCB Loan (FHLB, DHCD, other Resources) '], dtype=object)"
      ]
     },
     "execution_count": 197,
     "metadata": {},
     "output_type": "execute_result"
    }
   ],
   "source": [
    "df2[\"Source\"].unique()"
   ]
  },
  {
   "cell_type": "code",
   "execution_count": null,
   "metadata": {},
   "outputs": [],
   "source": [
    "bank_loan = ['First Citizens Bank','FHLB of Atlanta','RRHA Seller Note',\n",
    "             \"Bank of America\", \"First Mortgage\",'Merchants Bank', 'Merchants Capital',\n",
    "             'Merchants Bank', 'Merchants Capital','Access National Bank',\n",
    "       'Valhalla Mortgage, LLC','Construction & Bridge Loan Equity LP','BB&T','Bridge Loan', \"M&T Bank\",]\n",
    "deferred_dev = []\n",
    "state_credit = ['MUMI','VHDA REACH Loan/MUMI',] \n",
    "federal_credit = ['USDA PRLF']\n",
    "state_grant = ['VHDA REACH','REACH','Taxable REACH','VHDA Const. Loan','DHCD HOME','VHDA Perm','VHDA','DHCD National Trust Fund',\n",
    "               'VHDA SPARC','DHCD (AHTF)','VHDA Const. Loan','DHCD Planning Grant', 'DHCD HOME/VHTF','DHCD NHTF', 'DHCD VHTF','FHTF','VHDA Debt','VHDA Taxable', 'VHTF/Sponsor Loan',] # VHDA was created by the state but is a public private partnership I think? https://www.vhda.com/BusinessPartners/GovandNon-Profits/CommunityOutreach/Pages/Grant-Programs.aspx financing seems explicltly below market rate https://www.vhda.com/BusinessPartners/MFDevelopers/MFFinancing/Pages/MFFinancing.aspx\n",
    "local_grant = ['Henrico CDBG/ HOME', 'Richmond CDBG/ HOME/',\n",
    "       'Chesterfield CDBG/ HOME','Sponsor Loan (Leashold Interest Seller N',\n",
    "       'Sponsor Loan (City HOME Funds)', 'AHIF','Sponsor Loan (RH Factor)','Sponsor Subsidy Financing',\n",
    "       'Sponsor Loan (PH Operating Reserves)',\"American Legion Seller No\",\n",
    "       'Sponsor Loan (NNRHA Development Resources)','Town of South Hill', 'Alexandria City Loan','Sponsor Loan (NNRHA Resources)','Sponsor Loan','Sponsor Loan (Seller Note)',\n",
    "             'Sponsor Loan (City of Charlottesville)','Loudoun County HTF', 'Permit Fee Waiver','Local Fdtn','Charlottesville Grants', 'Sponsor Loan (CCF)\",] # https://www.hudexchange.info/grantees/richmond-ca/?program=2 \n",
    "public_private_partnership = ['VHDA TAXABLE','VHDA Taxable Bonds', 'VHDA SPARC',\n",
    "                              'VHDA Const. Loan', 'VHDA Taxable','VHDA SIP','VHDA Match','Bon Secours/ VCU Health', ] \n",
    "federal_home_loan_bank = ['FHLB','Sponsor Loan (FHLB)','FHLBA', 'FHLB AHP',\"TCB Loan (FHLB, DHCD, other Resources)\"]               \n",
    "fed_grant = [\"USDA RD\",'RD 515']\n",
    "land_donation = ['Donated Land','Bay Aging ‐ land donation','Donation of Property',\n",
    "                 'Donated Land/ Building','Below‐Market Ground Lease']"
   ]
  },
  {
   "cell_type": "code",
   "execution_count": null,
   "metadata": {},
   "outputs": [],
   "source": [
    "conditions = [df[\"Financing Type\"].isin(bank_loan),\n",
    "    df[\"Financing Type\"].isin(deferred_dev),\n",
    "    df[\"Financing Type\"].isin(state_credit),\n",
    "    df[\"Financing Type\"].isin(federal_credit),\n",
    "    df[\"Financing Type\"].isin(state_grant),\n",
    "    df[\"Financing Type\"].isin(local_grant),\n",
    "    df[\"Financing Type\"].isin(public_private_partnership),\n",
    "    df[\"Financing Type\"].isin(fed_grant),\n",
    "             df[\"Financing Type\"].isin(federal_home_loan_bank),\n",
    "             df[\"Financing Type\"].isin(land_donation)]"
   ]
  },
  {
   "cell_type": "code",
   "execution_count": null,
   "metadata": {},
   "outputs": [],
   "source": [
    "outputs = ['Bank Loan',\"Deferred Developer Fee\",\"State Housing Credit Equity\",\n",
    "    \"Federal Housing Credit Equity\",\"State Grant\",\"Local Grant\",\"Public Private Partnership\",\"Federal Home Loan Bank\",\n",
    "           \"Federal Grant\",\"Land Donation\"]"
   ]
  },
  {
   "cell_type": "code",
   "execution_count": null,
   "metadata": {},
   "outputs": [],
   "source": [
    "df[\"Financing_sub_cat\"] = np.select(conditions, outputs, 'Other')\n"
   ]
  }
 ],
 "metadata": {
  "kernelspec": {
   "display_name": "Python 3",
   "language": "python",
   "name": "python3"
  },
  "language_info": {
   "codemirror_mode": {
    "name": "ipython",
    "version": 3
   },
   "file_extension": ".py",
   "mimetype": "text/x-python",
   "name": "python",
   "nbconvert_exporter": "python",
   "pygments_lexer": "ipython3",
   "version": "3.7.2"
  }
 },
 "nbformat": 4,
 "nbformat_minor": 2
}
