{
 "cells": [
  {
   "cell_type": "code",
   "execution_count": 1,
   "metadata": {},
   "outputs": [],
   "source": [
    "import pandas as pd\n",
    "import numpy as np\n",
    "import glob\n",
    "import re"
   ]
  },
  {
   "cell_type": "markdown",
   "metadata": {},
   "source": [
    "### Extract affordable housing financing data from Virginia PDFs"
   ]
  },
  {
   "cell_type": "code",
   "execution_count": 2,
   "metadata": {},
   "outputs": [
    {
     "name": "stderr",
     "output_type": "stream",
     "text": [
      "/Users/quinnunderriner/anaconda3/lib/python3.7/site-packages/ipykernel_launcher.py:6: FutureWarning: Passing a negative integer is deprecated in version 1.0 and will not be supported in future version. Instead, use None to not limit the column width.\n",
      "  \n"
     ]
    }
   ],
   "source": [
    "#overwrite pandas to let it show full document without truncation so I can manually\n",
    "#look for where to index in\n",
    "pd.set_option('display.max_rows', None)\n",
    "pd.set_option('display.max_columns', None)\n",
    "pd.set_option('display.width', None)\n",
    "pd.set_option('display.max_colwidth', -1)"
   ]
  },
  {
   "cell_type": "code",
   "execution_count": 13,
   "metadata": {},
   "outputs": [],
   "source": [
    "#filepath to PDFs\n",
    "filepath = '/Users/quinnunderriner/Desktop/Work/Georgia 2019 Applications/'\n",
    "# create a list of filepaths \n",
    "files = glob.glob(filepath+\"*.xlsx\", recursive = True)"
   ]
  },
  {
   "cell_type": "code",
   "execution_count": 384,
   "metadata": {},
   "outputs": [],
   "source": [
    "def extract_from_georgia_xlsx(files):\n",
    "    \"\"\"\n",
    "    Inputs:\n",
    "        files (list) - strings of path to excel files\n",
    "    \n",
    "    This function looks for the first instance of the phrase \"Construction Financing\" and \n",
    "    then indexes through the file to pull out relevent financial info by section. \n",
    "    \"\"\"\n",
    "    final_df = pd.DataFrame()\n",
    "    for file in files:\n",
    "        #print(\"starting file: \", file)\n",
    "        file_name = re.split(\"/\", file)[-1]\n",
    "        file_name = file_name[0:-5]\n",
    "        \n",
    "        df = pd.read_excel(file, sheet_name='Part III-Sources of Funds')\n",
    "        #need to rename columns to numbers to make indexing easier \n",
    "        df = df.rename(columns={x:y for x,y in zip(df.columns,range(0,len(df.columns)))})\n",
    "        try:\n",
    "            #construction financing section \n",
    "            row1 = df[df[1] == 'CONSTRUCTION FINANCING'].index[0]\n",
    "            df1 = df[row1:row1+14].dropna(subset=[11]).dropna(how='all', axis=1)\n",
    "            df1.columns = df1.iloc[0]\n",
    "            df1 = df1[1:]\n",
    "            df1[\"File Name\"] = file_name\n",
    "            df1[\"Funding Type\"] = \"Construction Financing\"\n",
    "            df1 = df1.drop([\"DCA COMMENTS - DCA Use Only\"],axis=1,)\n",
    "            df1 = df1[pd.notnull(df1[' Name of Financing Entity'])]#drop col if null name for financing entity\n",
    "            df1 = df1.loc[:, df1.columns.notnull()]#drop col if name is null \n",
    "            df1 = df1.rename(columns={\"Term (In Months)\":\"Term (Months)\",\n",
    "                                      \"Amount ($)\":\"Amount of Funds\",\n",
    "                                     ' Name of Financing Entity':'Name of Financing Entity'})\n",
    "        except Exception as e:\n",
    "            print(\"no construction financing \",file_name, e)\n",
    "\n",
    "        try:    \n",
    "            #permanent financing section \n",
    "            row2 = df[df[1] == 'PERMANENT FINANCING'].index[0]\n",
    "            df2 = df[row2:row2+10].dropna(subset=[8]).dropna(how='all', axis=1)\n",
    "            df2 = df2.rename(columns=df2.iloc[0]).drop(df2.index[0])#make first row the header\n",
    "            df2 = df2.loc[:,~df2.columns.duplicated()]#removed duplicate col names\n",
    "            df2 = df2.loc[:, df2.columns.notnull()]#drop col if name is null \n",
    "            df2 = df2.drop([\"DCA COMMENTS - DCA Use Only\",\"Loan Type\"],axis=1,)\n",
    "            df2[\"(Years)\"] = df2[\"(Years)\"]*12 #change years to months\n",
    "            df2 = df2.rename(columns={\"Principal Amount ($)\":'Amount of Funds',\n",
    "                                      \"Int Rate\":\"Effective Interest Rate\",\n",
    "                                      \"(Years)\":\"Term (Months)\",\n",
    "                                     ' Name of Financing Entity':'Name of Financing Entity'})\n",
    "            df2[\"File Name\"] = file_name\n",
    "            df2[\"Funding Type\"] = \"Permanent Financing\"\n",
    "            final_df1 = pd.concat([df1, df2])\n",
    "        except Exception as e:\n",
    "            print(\"no perm  financing 1 \",file_name, e)\n",
    "        try:\n",
    "            #permanent financing section subsection \n",
    "            row3 = df[df[1] == 'Federal Grant'].index[1]\n",
    "            df3 = df.loc[row3:row3+11, :8].dropna(subset=[8]).dropna(how='all', axis=1)\n",
    "            df3 = df3.rename(columns = {1:\"Financing Type\",4:\"Name of Financing Entity\",\n",
    "                                        8:\"Amount of Funds\"})\n",
    "            #df3 = df3.drop([2], axis=1)\n",
    "            df3 = df3[df3['Name of Financing Entity'].notna()]\n",
    "            df3['File Name'] = file_name\n",
    "            df3['Funding Type'] = 'Permanent Financing'\n",
    "        \n",
    "        except Exception as e:\n",
    "            print(\"no perm  financing 2 \",file_name, e)\n",
    "        \n",
    "        try:\n",
    "            final_df2 = final_df1.append(df3, ignore_index=True)\n",
    "        except Exception as e:\n",
    "            print(\"final concat failed \",file_name, e)\n",
    "        \n",
    "        \n",
    "        #final_df2 = final_df2.values.tolist()\n",
    "        final_df = final_df.append(final_df2, ignore_index=True)\n",
    "    final_df = final_df.drop([2], axis=1)\n",
    "    return final_df"
   ]
  },
  {
   "cell_type": "code",
   "execution_count": 387,
   "metadata": {},
   "outputs": [
    {
     "name": "stdout",
     "output_type": "stream",
     "text": [
      "no perm  financing 2  2019-063havensatlantagoracore 'Name of Financing Entity'\n",
      "no perm  financing 2  2019-073arborskingsldgoracore 'Name of Financing Entity'\n"
     ]
    },
    {
     "name": "stderr",
     "output_type": "stream",
     "text": [
      "/Users/quinnunderriner/anaconda3/lib/python3.7/site-packages/pandas/core/computation/expressions.py:68: FutureWarning: elementwise comparison failed; returning scalar instead, but in the future will perform elementwise comparison\n",
      "  return op(a, b)\n",
      "/Users/quinnunderriner/anaconda3/lib/python3.7/site-packages/pandas/core/computation/expressions.py:68: FutureWarning: elementwise comparison failed; returning scalar instead, but in the future will perform elementwise comparison\n",
      "  return op(a, b)\n",
      "/Users/quinnunderriner/anaconda3/lib/python3.7/site-packages/pandas/core/computation/expressions.py:68: FutureWarning: elementwise comparison failed; returning scalar instead, but in the future will perform elementwise comparison\n",
      "  return op(a, b)\n"
     ]
    },
    {
     "name": "stdout",
     "output_type": "stream",
     "text": [
      "no construction financing  2019-018villageon5thgoraapp index 0 is out of bounds for axis 0 with size 0\n",
      "no perm  financing 1  2019-018villageon5thgoraapp index 0 is out of bounds for axis 0 with size 0\n",
      "no perm  financing 2  2019-018villageon5thgoraapp index 1 is out of bounds for axis 0 with size 0\n"
     ]
    }
   ],
   "source": [
    "#need to manually handle these edge cases. The final three errors are just that it was a blank page. \n",
    "df = extract_from_georgia_xlsx(files)"
   ]
  },
  {
   "cell_type": "code",
   "execution_count": 390,
   "metadata": {},
   "outputs": [],
   "source": [
    "#write to csv\n",
    "df.to_csv(\"Georgia_scraped_financing_info.csv\")"
   ]
  },
  {
   "cell_type": "code",
   "execution_count": 45,
   "metadata": {},
   "outputs": [],
   "source": [
    "df = pd.read_csv(\"Georgia_scraped_financing_info.csv\")"
   ]
  },
  {
   "cell_type": "code",
   "execution_count": null,
   "metadata": {},
   "outputs": [],
   "source": [
    "#filter for only accepted 9% applications, data found here: https://www.dca.ga.gov/node/3814 although the names don't \n",
    "#match the file names perfectly and are super messy "
   ]
  },
  {
   "cell_type": "code",
   "execution_count": 26,
   "metadata": {},
   "outputs": [],
   "source": [
    "#need to standardize name column so files can be filtered. Need to drop date from front end, \n",
    "#and goracore from the back end. index in 8, back -7. also drop 2s, because inconsistent with filter list \n",
    "names_in_file = df[\"File Name\"].str[8:-7].unique()"
   ]
  },
  {
   "cell_type": "code",
   "execution_count": 29,
   "metadata": {
    "collapsed": true
   },
   "outputs": [
    {
     "data": {
      "text/plain": [
       "['_24east',\n",
       " '_idorag',\n",
       " 'abbgntnormewdpkg',\n",
       " 'abbgtnsoundg',\n",
       " 'abbngtnsoundg',\n",
       " 'anthm2',\n",
       " 'arborskingsldg',\n",
       " 'belleviewoaksg',\n",
       " 'brennanplcg',\n",
       " 'canaancrssgg',\n",
       " 'capitallndgg',\n",
       " 'chateauhill',\n",
       " 'chattahoocheeptg',\n",
       " 'chelseaparkth_g',\n",
       " 'covecartersvilleg',\n",
       " 'creeksideg',\n",
       " 'crowvllyhtsg',\n",
       " 'dogwoodtrail2g',\n",
       " 'dullespark2g',\n",
       " 'elmstreetg',\n",
       " 'flatsaberdeen',\n",
       " 'flatssamlaneg',\n",
       " 'flintridgedr_g',\n",
       " 'flintridgeg',\n",
       " 'groveparkg',\n",
       " 'grovewoodford',\n",
       " 'haddocklndg',\n",
       " 'haddocklndgg',\n",
       " 'harperwdsg',\n",
       " 'havensatlantag',\n",
       " 'havenwdsprgsdr_g',\n",
       " 'havenwoodgdnsg',\n",
       " 'hearthsidesmyrnag',\n",
       " 'heritageg',\n",
       " 'jesupcommonsg',\n",
       " 'kingsbaygdns',\n",
       " 'kingsbaygdnsg',\n",
       " 'kingsbrook',\n",
       " 'kingsmlllndgs',\n",
       " 'kingsmlllndgscdbg_g',\n",
       " 'legacyg',\n",
       " 'legacywaltontrlg',\n",
       " 'liveoaklndg2',\n",
       " 'millvillageg',\n",
       " 'newnancrossg',\n",
       " 'northsidehtsg',\n",
       " 'northsidesrvlgg',\n",
       " 'nrthlakecommns',\n",
       " 'nwncrsg',\n",
       " 'oaklandg',\n",
       " 'peaksclaytong',\n",
       " 'peaksdawsonvilleg',\n",
       " 'perryplaceg',\n",
       " 'pineviewtraceg',\n",
       " 'redwoodtrailsg',\n",
       " 'revere',\n",
       " 'riverpte2g',\n",
       " 'sandyrunctg',\n",
       " 'savgdns6revisedg',\n",
       " 'southernpteg',\n",
       " 'sparrowpte',\n",
       " 'sterlinghtsg',\n",
       " 'stonyridge2',\n",
       " 'suttonterrace',\n",
       " 'symphony',\n",
       " 'tenleycommonsg',\n",
       " 'thriveswtauburng',\n",
       " 'truelighthaveng',\n",
       " 'verandaassemblyg',\n",
       " 'villageparadiseg',\n",
       " 'villgchickamauga2g',\n",
       " 'waltonharborg',\n",
       " 'waring',\n",
       " 'westoversr',\n",
       " 'wimberlymanorg',\n",
       " 'wisteriachatsworthg',\n",
       " 'wisteriaplcalbanyg',\n",
       " 'woodlawnsrvllgg',\n",
       " 'woodstone2g',\n",
       " 'wrredev2g']"
      ]
     },
     "execution_count": 29,
     "metadata": {},
     "output_type": "execute_result"
    }
   ],
   "source": [
    "sorted(list(names_in_file))"
   ]
  },
  {
   "cell_type": "code",
   "execution_count": 31,
   "metadata": {
    "collapsed": true
   },
   "outputs": [
    {
     "data": {
      "text/plain": [
       "['24 East',\n",
       " 'Abbgtn Ormewd Prk',\n",
       " 'Anthem II',\n",
       " 'Canaan Crossing',\n",
       " 'Cove Cartersville',\n",
       " 'Creekside',\n",
       " 'Crow Valley Hts',\n",
       " 'Flats Sam Lane',\n",
       " 'Flint Ridge',\n",
       " 'Harper Woods',\n",
       " 'Haven S Alanta',\n",
       " 'Havenwood Gdns',\n",
       " 'Hearthside Smyrna',\n",
       " 'Legacy Walton Trl',\n",
       " 'Live Oak Lndg II',\n",
       " 'Mill Vllg',\n",
       " 'Newnan Crossing',\n",
       " 'Northside Sr Vllg',\n",
       " 'Pineview Trace',\n",
       " 'Sterling Hts',\n",
       " 'Sutton Terrace',\n",
       " 'Symphony',\n",
       " 'Thrive Swt Auburn',\n",
       " 'Veranda Assembly',\n",
       " 'Vllg Chickamauga 2',\n",
       " 'Vllg on 5th',\n",
       " 'WR Redevlpmt II',\n",
       " 'Walton Harbor',\n",
       " 'Waring',\n",
       " 'Westover Sr Vllg',\n",
       " 'Wimberly Manor',\n",
       " 'Woodlawn Sr Vllg',\n",
       " 'Woodstone II']"
      ]
     },
     "execution_count": 31,
     "metadata": {},
     "output_type": "execute_result"
    }
   ],
   "source": [
    "sorted(filter1)"
   ]
  },
  {
   "cell_type": "code",
   "execution_count": 3,
   "metadata": {},
   "outputs": [],
   "source": [
    "filter1 = pd.read_excel(\"2019_funding_cycle_selection_revised12162019 (2).xlsx\")"
   ]
  },
  {
   "cell_type": "code",
   "execution_count": 5,
   "metadata": {},
   "outputs": [],
   "source": [
    "filter1 = filter1[\"Unnamed: 3\"].dropna().to_list()[1:35]#indexed in based just on manually counting \n",
    "#because they have funded and unfunded projects in the same col for some reason \n",
    "del filter1[15] # remove number 15 because its just a number not a project name "
   ]
  },
  {
   "cell_type": "code",
   "execution_count": 24,
   "metadata": {},
   "outputs": [],
   "source": [
    "filter1 = [x.strip(' ') for x in filter1]#filter out the whitespace "
   ]
  },
  {
   "cell_type": "code",
   "execution_count": 35,
   "metadata": {},
   "outputs": [],
   "source": [
    "#now want to filter for just selected projects\n",
    "#data on projects selected found here: https://www.dca.ga.gov/node/3814\n",
    "#gonna manually translate between these two, far too many missing letters \n",
    "accepted_apps = ['_24east',\n",
    "'abbgntnormewdpkg',\n",
    "'anthm2',\n",
    "'canaancrssgg',\n",
    "'creeksideg',\n",
    "'crowvllyhtsg',\n",
    "'flatssamlaneg',\n",
    " 'flintridgedr_g',\n",
    " 'flintridgeg',\n",
    " 'harperwdsg',\n",
    " 'havensatlantag',\n",
    " 'hearthsidesmyrnag',\n",
    "'legacywaltontrlg',\n",
    "'liveoaklndg2',\n",
    "'millvillageg',\n",
    "'newnancrossg',\n",
    "'northsidesrvlgg',\n",
    " 'pineviewtraceg',\n",
    " 'sterlinghtsg',\n",
    "  'suttonterrace',\n",
    "'symphony',\n",
    " 'thriveswtauburng',\n",
    "  'verandaassemblyg',\n",
    "  'villgchickamauga2g',\n",
    "  'waltonharborg',\n",
    "  'waring',\n",
    "  'westoversr',\n",
    "  'woodlawnsrvllgg',\n",
    " 'woodstone2g',\n",
    " 'wrredev2g']"
   ]
  },
  {
   "cell_type": "code",
   "execution_count": 46,
   "metadata": {
    "collapsed": true
   },
   "outputs": [
    {
     "data": {
      "text/html": [
       "<div>\n",
       "<style scoped>\n",
       "    .dataframe tbody tr th:only-of-type {\n",
       "        vertical-align: middle;\n",
       "    }\n",
       "\n",
       "    .dataframe tbody tr th {\n",
       "        vertical-align: top;\n",
       "    }\n",
       "\n",
       "    .dataframe thead th {\n",
       "        text-align: right;\n",
       "    }\n",
       "</style>\n",
       "<table border=\"1\" class=\"dataframe\">\n",
       "  <thead>\n",
       "    <tr style=\"text-align: right;\">\n",
       "      <th></th>\n",
       "      <th>Financing Type</th>\n",
       "      <th>Name of Financing Entity</th>\n",
       "      <th>Amount of Funds</th>\n",
       "      <th>Effective Interest Rate</th>\n",
       "      <th>Term (Months)</th>\n",
       "      <th>File Name</th>\n",
       "      <th>Funding Type</th>\n",
       "    </tr>\n",
       "  </thead>\n",
       "  <tbody>\n",
       "    <tr>\n",
       "      <th>29</th>\n",
       "      <td>Mortgage A</td>\n",
       "      <td>Bank OZK</td>\n",
       "      <td>2744584.43</td>\n",
       "      <td>0.0594</td>\n",
       "      <td>12.0</td>\n",
       "      <td>waring</td>\n",
       "      <td>Construction Financing</td>\n",
       "    </tr>\n",
       "    <tr>\n",
       "      <th>30</th>\n",
       "      <td>Federal Housing Credit Equity</td>\n",
       "      <td>Raymond James Federal Equity</td>\n",
       "      <td>466848</td>\n",
       "      <td>NaN</td>\n",
       "      <td>NaN</td>\n",
       "      <td>waring</td>\n",
       "      <td>Construction Financing</td>\n",
       "    </tr>\n",
       "    <tr>\n",
       "      <th>31</th>\n",
       "      <td>State Housing Credit Equity</td>\n",
       "      <td>Raymond James State Equity</td>\n",
       "      <td>280772</td>\n",
       "      <td>NaN</td>\n",
       "      <td>NaN</td>\n",
       "      <td>waring</td>\n",
       "      <td>Construction Financing</td>\n",
       "    </tr>\n",
       "    <tr>\n",
       "      <th>32</th>\n",
       "      <td>Deferred Devlpr Fee</td>\n",
       "      <td>DASH Development/CRN Development</td>\n",
       "      <td>11779</td>\n",
       "      <td>0.0000</td>\n",
       "      <td>12.0</td>\n",
       "      <td>waring</td>\n",
       "      <td>Permanent Financing</td>\n",
       "    </tr>\n",
       "    <tr>\n",
       "      <th>33</th>\n",
       "      <td>Federal Housing Credit Equity</td>\n",
       "      <td>Raymond James Federal Equity</td>\n",
       "      <td>2651735</td>\n",
       "      <td>NaN</td>\n",
       "      <td>NaN</td>\n",
       "      <td>waring</td>\n",
       "      <td>Permanent Financing</td>\n",
       "    </tr>\n",
       "    <tr>\n",
       "      <th>...</th>\n",
       "      <td>...</td>\n",
       "      <td>...</td>\n",
       "      <td>...</td>\n",
       "      <td>...</td>\n",
       "      <td>...</td>\n",
       "      <td>...</td>\n",
       "      <td>...</td>\n",
       "    </tr>\n",
       "    <tr>\n",
       "      <th>590</th>\n",
       "      <td>Federal Housing Credit Equity</td>\n",
       "      <td>Raymond James</td>\n",
       "      <td>2945885</td>\n",
       "      <td>NaN</td>\n",
       "      <td>NaN</td>\n",
       "      <td>woodlawnsrvllgg</td>\n",
       "      <td>Construction Financing</td>\n",
       "    </tr>\n",
       "    <tr>\n",
       "      <th>591</th>\n",
       "      <td>State Housing Credit Equity</td>\n",
       "      <td>Raymond James</td>\n",
       "      <td>1386317</td>\n",
       "      <td>NaN</td>\n",
       "      <td>NaN</td>\n",
       "      <td>woodlawnsrvllgg</td>\n",
       "      <td>Construction Financing</td>\n",
       "    </tr>\n",
       "    <tr>\n",
       "      <th>592</th>\n",
       "      <td>Deferred Devlpr Fee</td>\n",
       "      <td>deferred developer fee</td>\n",
       "      <td>8118</td>\n",
       "      <td>0.0000</td>\n",
       "      <td>12.0</td>\n",
       "      <td>woodlawnsrvllgg</td>\n",
       "      <td>Permanent Financing</td>\n",
       "    </tr>\n",
       "    <tr>\n",
       "      <th>593</th>\n",
       "      <td>Federal Housing Credit Equity</td>\n",
       "      <td>Raymond James</td>\n",
       "      <td>3187500</td>\n",
       "      <td>NaN</td>\n",
       "      <td>NaN</td>\n",
       "      <td>woodlawnsrvllgg</td>\n",
       "      <td>Permanent Financing</td>\n",
       "    </tr>\n",
       "    <tr>\n",
       "      <th>594</th>\n",
       "      <td>State Housing Credit Equity</td>\n",
       "      <td>Raymond James</td>\n",
       "      <td>1762500</td>\n",
       "      <td>NaN</td>\n",
       "      <td>NaN</td>\n",
       "      <td>woodlawnsrvllgg</td>\n",
       "      <td>Permanent Financing</td>\n",
       "    </tr>\n",
       "  </tbody>\n",
       "</table>\n",
       "<p>238 rows × 7 columns</p>\n",
       "</div>"
      ],
      "text/plain": [
       "                    Financing Type          Name of Financing Entity  \\\n",
       "29                      Mortgage A                          Bank OZK   \n",
       "30   Federal Housing Credit Equity      Raymond James Federal Equity   \n",
       "31     State Housing Credit Equity        Raymond James State Equity   \n",
       "32             Deferred Devlpr Fee  DASH Development/CRN Development   \n",
       "33   Federal Housing Credit Equity      Raymond James Federal Equity   \n",
       "..                             ...                               ...   \n",
       "590  Federal Housing Credit Equity                     Raymond James   \n",
       "591    State Housing Credit Equity                     Raymond James   \n",
       "592            Deferred Devlpr Fee            deferred developer fee   \n",
       "593  Federal Housing Credit Equity                     Raymond James   \n",
       "594    State Housing Credit Equity                     Raymond James   \n",
       "\n",
       "    Amount of Funds  Effective Interest Rate  Term (Months)        File Name  \\\n",
       "29       2744584.43                   0.0594           12.0           waring   \n",
       "30           466848                      NaN            NaN           waring   \n",
       "31           280772                      NaN            NaN           waring   \n",
       "32            11779                   0.0000           12.0           waring   \n",
       "33          2651735                      NaN            NaN           waring   \n",
       "..              ...                      ...            ...              ...   \n",
       "590         2945885                      NaN            NaN  woodlawnsrvllgg   \n",
       "591         1386317                      NaN            NaN  woodlawnsrvllgg   \n",
       "592            8118                   0.0000           12.0  woodlawnsrvllgg   \n",
       "593         3187500                      NaN            NaN  woodlawnsrvllgg   \n",
       "594         1762500                      NaN            NaN  woodlawnsrvllgg   \n",
       "\n",
       "               Funding Type  \n",
       "29   Construction Financing  \n",
       "30   Construction Financing  \n",
       "31   Construction Financing  \n",
       "32      Permanent Financing  \n",
       "33      Permanent Financing  \n",
       "..                      ...  \n",
       "590  Construction Financing  \n",
       "591  Construction Financing  \n",
       "592     Permanent Financing  \n",
       "593     Permanent Financing  \n",
       "594     Permanent Financing  \n",
       "\n",
       "[238 rows x 7 columns]"
      ]
     },
     "execution_count": 46,
     "metadata": {},
     "output_type": "execute_result"
    }
   ],
   "source": [
    "df[\"File Name\"] = df[\"File Name\"].str[8:-7]\n",
    "\n"
   ]
  },
  {
   "cell_type": "code",
   "execution_count": 49,
   "metadata": {},
   "outputs": [
    {
     "data": {
      "text/plain": [
       "238"
      ]
     },
     "execution_count": 49,
     "metadata": {},
     "output_type": "execute_result"
    }
   ],
   "source": [
    "len(df)"
   ]
  },
  {
   "cell_type": "code",
   "execution_count": 48,
   "metadata": {},
   "outputs": [],
   "source": [
    "df = df[df[\"File Name\"].isin(accepted_apps)]"
   ]
  },
  {
   "cell_type": "code",
   "execution_count": 90,
   "metadata": {},
   "outputs": [],
   "source": [
    "df = df[df[\"Financing Type\"] != \"Total Permanent Financing:\"] #remove total financing mistake"
   ]
  },
  {
   "cell_type": "code",
   "execution_count": 92,
   "metadata": {},
   "outputs": [],
   "source": [
    "df.to_csv(\"Georgia_approved_9%_applications.csv\")"
   ]
  },
  {
   "cell_type": "code",
   "execution_count": null,
   "metadata": {},
   "outputs": [],
   "source": [
    "#now trying to auto_label some of the funding types "
   ]
  },
  {
   "cell_type": "code",
   "execution_count": 91,
   "metadata": {},
   "outputs": [
    {
     "data": {
      "text/plain": [
       "Federal Housing Credit Equity     61\n",
       "State Housing Credit Equity       61\n",
       "Mortgage A                        30\n",
       "Deferred Devlpr Fee               25\n",
       "Mortgage A (Lien Position 1)      24\n",
       "Mortgage B                        15\n",
       "Mortgage B (Lien Position 2)       8\n",
       "State, Local, or Private Grant     4\n",
       "Mortgage C                         2\n",
       "Mortgage C (Lien Position 3)       2\n",
       "Federal Grant                      2\n",
       "Other:                             1\n",
       "Deferred Developer Fees            1\n",
       "Other Type (specify)               1\n",
       "Name: Financing Type, dtype: int64"
      ]
     },
     "execution_count": 91,
     "metadata": {},
     "output_type": "execute_result"
    }
   ],
   "source": [
    "df[\"Financing Type\"].value_counts()"
   ]
  },
  {
   "cell_type": "code",
   "execution_count": 74,
   "metadata": {},
   "outputs": [],
   "source": [
    "#create subcategories for types of financing, below code applies these and then creates a new column \n",
    "bank_loan = ['Mortgage A','Mortgage B','Mortgage C','Mortgage A (Lien Position 1)',\n",
    "             \"Mortgage B (Lien Position 2)\",\"Mortgage C (Lien Position 3)\"]\n",
    "deferred_dev = [\"Deferred Devlpr Fee\",\"Deferred Developer Fees\"]\n",
    "state_credit = [\"State Housing Credit Equity\"] #these are all listed as the banks who are taking the other side of the tax credit \n",
    "federal_credit = [\"Federal Housing Credit Equity\"]\n",
    "local_grant = [\"State, Local, or Private Grant\"] #spot checked these and 2 are from City of Gainesville - CDBG and two are from Macon Water Authority\n",
    "public_private_partnership = [\"Other Type (specify)\",\"Other:\"] # both are a partnership between the city of atlanta and united way https://partnersforhome.org/wp-content/uploads/2018/11/PSHDevelopment_ppt_111518.pdf\n",
    "fed_grant = [\"Federal Grant\"]"
   ]
  },
  {
   "cell_type": "code",
   "execution_count": 77,
   "metadata": {},
   "outputs": [],
   "source": [
    "conditions = [df[\"Financing Type\"].isin(bank_loan),\n",
    "    df[\"Financing Type\"].isin(deferred_dev),\n",
    "    df[\"Financing Type\"].isin(state_credit),\n",
    "    df[\"Financing Type\"].isin(federal_credit),\n",
    "    df[\"Financing Type\"].isin(local_grant),\n",
    "    df[\"Financing Type\"].isin(public_private_partnership),\n",
    "    df[\"Financing Type\"].isin(fed_grant)]\n",
    "\n"
   ]
  },
  {
   "cell_type": "code",
   "execution_count": 80,
   "metadata": {},
   "outputs": [],
   "source": [
    "outputs = ['Bank Loan',\"Deferred Developer Fee\",\"State Housing Credit Equity\",\n",
    "    \"Federal Housing Credit Equity\",\"Local Grant\",\"Public Private Partnership\",\"Federal Grant\"]"
   ]
  },
  {
   "cell_type": "code",
   "execution_count": 85,
   "metadata": {},
   "outputs": [],
   "source": [
    "df[\"Financing_sub_cat\"] = np.select(conditions, outputs, 'Other')\n"
   ]
  },
  {
   "cell_type": "code",
   "execution_count": 97,
   "metadata": {},
   "outputs": [],
   "source": [
    "df.drop([\"Unnamed: 0\"],axis=1).to_csv(\"Georgia_scraped_financing_info_Awarded_Only.csv\")"
   ]
  },
  {
   "cell_type": "code",
   "execution_count": 99,
   "metadata": {},
   "outputs": [
    {
     "data": {
      "text/plain": [
       "array(['Bank Loan', 'Federal Housing Credit Equity',\n",
       "       'State Housing Credit Equity', 'Deferred Developer Fee',\n",
       "       'Federal Grant', 'Public Private Partnership', 'Local Grant'],\n",
       "      dtype=object)"
      ]
     },
     "execution_count": 99,
     "metadata": {},
     "output_type": "execute_result"
    }
   ],
   "source": [
    "df[\"Financing_sub_cat\"].unique()"
   ]
  },
  {
   "cell_type": "markdown",
   "metadata": {},
   "source": [
    "### pt2 - gather extra info "
   ]
  },
  {
   "cell_type": "code",
   "execution_count": 4,
   "metadata": {},
   "outputs": [],
   "source": [
    "df = pd.read_csv(\"Georgia_approved_9%_applications.csv\") "
   ]
  },
  {
   "cell_type": "code",
   "execution_count": 38,
   "metadata": {},
   "outputs": [],
   "source": [
    "test_files = files[0:10]\n",
    "file = files[0]\n"
   ]
  },
  {
   "cell_type": "code",
   "execution_count": 105,
   "metadata": {},
   "outputs": [],
   "source": [
    "def extract_from_georgia_xlsx(files):\n",
    "    \"\"\"\n",
    "    Inputs:\n",
    "        files (list) - strings of path to excel files\n",
    "    \n",
    "    This function looks for the first instance of the phrase \"Construction Financing\" and \n",
    "    then indexes through the file to pull out relevent financial info by section. \n",
    "    \"\"\"\n",
    "    cols = ['Project Name', 'Zip Code', 'Project Type', \"Total Units\",\n",
    "                                 \"Total Square Footage\",\"Census Tract\",\"Total Project Cost\"]\n",
    "    final_df = pd.DataFrame(columns=cols)\n",
    "    df = []\n",
    "    for file in files:\n",
    "        #print(\"starting file: \", file)\n",
    "        file_name = re.split(\"/\", file)[-1]\n",
    "        file_name = file_name[0:-5]\n",
    "        \n",
    "        try:\n",
    "            project_information = pd.read_excel(file, sheet_name='Part I-Project Information')\n",
    "            costs = pd.read_excel(file, sheet_name='Part IV-A-Uses of Funds')\n",
    "        except Exception as e:\n",
    "            print(\"can read data\",file_name, e)\n",
    "        try:\n",
    "        #need to rename columns to numbers to make indexing easier \n",
    "            project_information = project_information.rename(columns={x:y for x,y in zip(project_information.columns,range(0,len(project_information.columns)))})\n",
    "            costs = costs.rename(columns={x:y for x,y in zip(costs.columns,range(0,len(costs.columns)))})\n",
    "        except Exception as e:\n",
    "            print(\"can change headings\",file_name, e)\n",
    "            \n",
    "        try:\n",
    "            #new_row = {'Project Name':file_name,\"Zip Code\":project_information[9][36],\n",
    "                       #'Project Type':project_information[7][80],\"Total Units\":project_information[7][70],\n",
    "                      #\"Total Square Footage\":project_information[15][73],\"Census Tract\":project_information[14][36],\n",
    "                      #\"Total Project Cost\":costs[6][130]}\n",
    "            new_row = [file_name, project_information[9][36],project_information[7][80],project_information[7][70],\n",
    "                      project_information[15][73],project_information[14][36],'{:f}'.format(costs[6][130])]\n",
    "            \n",
    "            \n",
    "        except Exception as e:\n",
    "            print(\"can add new info\",file_name, e)\n",
    "            \n",
    "        try:\n",
    "            zipped = zip(cols, new_row)\n",
    "            add_from_dict = dict(zipped)\n",
    "            df.append(add_from_dict)\n",
    "        \n",
    "        except Exception as e:\n",
    "            print(\"can add new info\",file_name, e)\n",
    "        \n",
    "        print(file_name,\"i am project name\")\n",
    "        print(project_information[9][36],\"i am zip code\")\n",
    "        print(project_information[7][80],\"I am project type\")\n",
    "        print(project_information[7][70],\"I am total units\")\n",
    "        print(project_information[15][73],\"I am total square footage\")\n",
    "        print(project_information[14][36],\"I am census tract\")\n",
    "        print(costs[6][130],\"I am total project cost\")\n",
    "        \n",
    "    final_df = final_df.append(df, True)   \n",
    "    return final_df"
   ]
  },
  {
   "cell_type": "code",
   "execution_count": null,
   "metadata": {},
   "outputs": [],
   "source": [
    "# function call to scape new data \n",
    "final = extract_from_georgia_xlsx(files)"
   ]
  },
  {
   "cell_type": "code",
   "execution_count": 110,
   "metadata": {},
   "outputs": [],
   "source": [
    "final.to_csv(\"Georgia_additional_info.csv\")\n"
   ]
  },
  {
   "cell_type": "code",
   "execution_count": 136,
   "metadata": {},
   "outputs": [],
   "source": [
    "final = pd.read_csv(\"Georgia_additional_info.csv\")"
   ]
  },
  {
   "cell_type": "code",
   "execution_count": null,
   "metadata": {},
   "outputs": [],
   "source": [
    "#some final data cleaning for the merge \n",
    "df = df.drop(columns=[\"Unnamed: 0\",\"Unnamed: 0.1\"]) #drop index columns that got made earlier \n",
    "final[\"Project Name\"] = final[\"Project Name\"].str[8:-7] # strip project name to match for merging \n",
    "final = final.rename(columns={\"Project Name\":\"File Name\"}) #make columns same name \n",
    "\n",
    "#merge new extra info onto already scraped data\n",
    "merged = df.merge(final,on=\"File Name\")\n",
    "\n",
    "#bit of final data cleaning, drop some rows, correct types etc \n",
    "\n",
    "merged[\"Amount of Funds\"] = merged[\"Amount of Funds\"].round(2)\n",
    "merged[\"Total Project Cost\"] = merged[\"Total Project Cost\"].round(2)\n",
    "merged[\"Zip Code\"] = merged[\"Zip Code\"].astype(str).str[:-4].astype(np.int64) #make it 5 digit zip instead of 9\n",
    "merged = merged.drop(columns=[\"Unnamed: 0\"])"
   ]
  },
  {
   "cell_type": "code",
   "execution_count": 164,
   "metadata": {},
   "outputs": [],
   "source": [
    "merged.to_csv(\"Georgia_Final_Data.csv\")"
   ]
  },
  {
   "cell_type": "code",
   "execution_count": 163,
   "metadata": {},
   "outputs": [
    {
     "name": "stdout",
     "output_type": "stream",
     "text": [
      "2019_funding_cycle_selection_revised12162019 (2).xlsx\r\n",
      "Georgia_Financials_PDF_Extraction-Copy1.ipynb\r\n",
      "Georgia_Financials_PDF_Extraction.ipynb\r\n",
      "Georgia_Financials_PDF_Extraction_V2_MoreFields.ipynb\r\n",
      "Georgia_approved_9%_applications.csv\r\n",
      "Georgia_scraped_financing_info.csv\r\n",
      "Georgia_scraped_financing_info_Awarded_Only.csv\r\n"
     ]
    }
   ],
   "source": [
    "ls"
   ]
  }
 ],
 "metadata": {
  "kernelspec": {
   "display_name": "Python 3",
   "language": "python",
   "name": "python3"
  },
  "language_info": {
   "codemirror_mode": {
    "name": "ipython",
    "version": 3
   },
   "file_extension": ".py",
   "mimetype": "text/x-python",
   "name": "python",
   "nbconvert_exporter": "python",
   "pygments_lexer": "ipython3",
   "version": "3.7.2"
  }
 },
 "nbformat": 4,
 "nbformat_minor": 2
}
