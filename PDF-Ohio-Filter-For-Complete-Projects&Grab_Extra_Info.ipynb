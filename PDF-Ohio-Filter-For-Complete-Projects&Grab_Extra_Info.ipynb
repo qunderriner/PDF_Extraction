{
 "cells": [
  {
   "cell_type": "code",
   "execution_count": 103,
   "metadata": {},
   "outputs": [],
   "source": [
    "import os\n",
    "import pdfplumber\n",
    "import glob\n",
    "import re\n",
    "import pandas as pd\n",
    "import numpy as np\n",
    "import string"
   ]
  },
  {
   "cell_type": "code",
   "execution_count": 25,
   "metadata": {},
   "outputs": [
    {
     "name": "stderr",
     "output_type": "stream",
     "text": [
      "/Users/quinnunderriner/anaconda3/lib/python3.7/site-packages/ipykernel_launcher.py:4: FutureWarning: Passing a negative integer is deprecated in version 1.0 and will not be supported in future version. Instead, use None to not limit the column width.\n",
      "  after removing the cwd from sys.path.\n"
     ]
    }
   ],
   "source": [
    "pd.set_option('display.max_rows', None)\n",
    "pd.set_option('display.max_columns', None)\n",
    "pd.set_option('display.width', None)\n",
    "pd.set_option('display.max_colwidth', -1)"
   ]
  },
  {
   "cell_type": "markdown",
   "metadata": {},
   "source": [
    "### Extract affordable housing financing data from Ohio PDFs\n"
   ]
  },
  {
   "cell_type": "code",
   "execution_count": 9,
   "metadata": {},
   "outputs": [],
   "source": [
    "#filepath to PDFs\n",
    "filepath = 'Ohio 2019 Applications/'\n",
    "# create a list of filepaths \n",
    "files = glob.glob(filepath+\"*.pdf\", recursive = True)"
   ]
  },
  {
   "cell_type": "code",
   "execution_count": 15,
   "metadata": {},
   "outputs": [],
   "source": [
    "test = \"AmberlySquareApts.pdf\""
   ]
  },
  {
   "cell_type": "code",
   "execution_count": 22,
   "metadata": {},
   "outputs": [],
   "source": [
    "pdf = pdfplumber.open(test)\n",
    "#print(len(pdf.pages[0].extract_tables()[0]))\n",
    "df = pd.DataFrame(pdf.pages[0].extract_tables()[0])"
   ]
  },
  {
   "cell_type": "code",
   "execution_count": 59,
   "metadata": {},
   "outputs": [],
   "source": [
    "wage = df[38:][1][51] \n"
   ]
  },
  {
   "cell_type": "code",
   "execution_count": 63,
   "metadata": {},
   "outputs": [
    {
     "data": {
      "text/plain": [
       "'Ohio Prevailing Wage'"
      ]
     },
     "execution_count": 63,
     "metadata": {},
     "output_type": "execute_result"
    }
   ],
   "source": [
    "wage[17:]"
   ]
  },
  {
   "cell_type": "markdown",
   "metadata": {},
   "source": [
    "The pdf reader does not correctly extract tables from these documents, however it does pull data out in a relativley predictable pattern. Below I check for files that have the same structure - only 4 out of 121 do not, so instead of worry about the edge cases I store them in the list \"broken files\" and will deal with those manually."
   ]
  },
  {
   "cell_type": "code",
   "execution_count": 109,
   "metadata": {},
   "outputs": [
    {
     "name": "stdout",
     "output_type": "stream",
     "text": [
      "Ohio 2019 Applications/MayflowerManor.pdf (56, 14)\n",
      "Ohio 2019 Applications/BerwynEastPlace.pdf (25, 9)\n",
      "Ohio 2019 Applications/AppleseedSeniorApartments.pdf (35, 14)\n",
      "Ohio 2019 Applications/SW-DetroitShorewayHomes.pdf (35, 13)\n"
     ]
    }
   ],
   "source": [
    "for file in files:\n",
    "    pdf = pdfplumber.open(file)\n",
    "    #print(len(pdf.pages[0].extract_tables()[0]))\n",
    "    df = pd.DataFrame(pdf.pages[0].extract_tables()[0])\n",
    "    if df.shape[0] > 40 and df.iloc[37].values[1] == 'Construction Financing Sources':\n",
    "        continue\n",
    "    else:\n",
    "        print(file, df.shape)"
   ]
  },
  {
   "cell_type": "code",
   "execution_count": 111,
   "metadata": {},
   "outputs": [],
   "source": [
    "broken_files = [\"Ohio 2019 Applications/MayflowerManor.pdf\",\n",
    "\"Ohio 2019 Applications/BerwynEastPlace.pdf\",\n",
    "\"Ohio 2019 Applications/AppleseedSeniorApartments.pdf\",\n",
    "\"Ohio 2019 Applications/SW-DetroitShorewayHomes.pdf\"]\n",
    "\n",
    "files = list(set(files) - set(broken_files)) #remove broken files from master set of files "
   ]
  },
  {
   "cell_type": "code",
   "execution_count": 25,
   "metadata": {},
   "outputs": [],
   "source": [
    "def scrape_ohio(files):\n",
    "    \"\"\"\n",
    "    Inputs:\n",
    "        Files (list): List of full filepaths to the PDFs for Virginia. \n",
    "    This file notices that while the extract table function of the PDF reader does not exactly work\n",
    "    in capturing the correct tables, the data follows a similar pattern and so it slices into \n",
    "    the files and grabs the relevent info from \"Construction Financing Sources\" \n",
    "    and \"Permenant Financing Sources\"\n",
    "    \"\"\"\n",
    "    money = []\n",
    "    wage_requirement = []\n",
    "    for file in files:\n",
    "        pdf = pdfplumber.open(file)\n",
    "        df = pd.DataFrame(pdf.pages[0].extract_tables()[0])\n",
    "        money_type = df.loc[37,1] #construction\n",
    "        file_name = re.split(\"/\", file)[-1] #regex to pull the filename from the filepath\n",
    "        file_name = file_name[0:-4]\n",
    "\n",
    "        for row in df[38:][1]:\n",
    "            if 'TOTAL' in row:\n",
    "                break\n",
    "            else:\n",
    "                print(row, \"i am a row\")\n",
    "                money.append([x.strip() for x in row.split('$')]+[money_type]+[file_name])\n",
    "                wage_r = df[38:][1][51][17:]\n",
    "                wage_requirement.append(wage_r + [file_name])\n",
    "        money_type = df.loc[37,6] #permanent\n",
    "        for row in df[38:][6]:\n",
    "            if 'TOTAL' in row:\n",
    "                break\n",
    "            else:\n",
    "                money.append([x.strip() for x in row.split('$')]+[money_type]+[file_name])\n",
    "\n",
    "    money_df = pd.DataFrame(money, columns=['Source',\"Amount of Funds\",\"Funding Type\",\"File Name\"])\n",
    "    money_df = money_df[~money_df[\"Amount of Funds\"].str.contains(\"-\")] #drop the blanks \n",
    "    wage_requirement_df = []\n",
    "     \n",
    "    \n",
    "    return money_df "
   ]
  },
  {
   "cell_type": "code",
   "execution_count": 111,
   "metadata": {},
   "outputs": [],
   "source": [
    "df = pd.read_csv(\"Ohio_scraped_financing_info.csv\")"
   ]
  },
  {
   "cell_type": "code",
   "execution_count": 136,
   "metadata": {},
   "outputs": [],
   "source": [
    "#awards = awards.str.replace(' ', '')\n",
    "#awards = awards.iloc[1:]\n",
    "\n",
    "#drop duplicates \n",
    "df1 = df[~df[\"File Name\"].str.contains(\"(1)\")]\n",
    "df = pd.read_csv(\"Ohio_scraped_financing_info.csv\")"
   ]
  },
  {
   "cell_type": "code",
   "execution_count": 144,
   "metadata": {},
   "outputs": [],
   "source": [
    "#write to csv\n",
    "df1.to_csv(\"Ohio_scraped_financing_info.csv\")"
   ]
  },
  {
   "cell_type": "code",
   "execution_count": null,
   "metadata": {},
   "outputs": [],
   "source": [
    "df = pd.read_csv(\"Ohio_scraped_financing_info.csv\")\n",
    "#read in list of those who actually won awards, this will also filter out the 4% and bond gap programs \n",
    "awards = pd.read_csv(\"2019-HTC-CompetitiveAwards.csv\")\n",
    "# link to data: https://ohiohome.org/ppd/documents/2019-HTC-CompetitiveAwards.xlsx\n",
    "awards = awards[\"Unnamed: 1\"]#drop this if col doesn't exist\n",
    "awards = awards.dropna()\n",
    "#now we have list of just those we want to keep \n",
    "awards = awards.str.replace(' ', '') #drop whitespace so place names match\n",
    "awards = awards.iloc[1:]\n",
    "df = df[df[\"Source\"]!='GP Capital Contribution']\n",
    "df = df[df[\"Source\"]!='GP Equity'] #drop GP contributions \n",
    "\n",
    "#filter for only ones we want \n",
    "df = df[df['File Name'].isin(awards)]\n",
    "df.to_csv(\"Ohio_scraped_financing_info_Awarded_Only.csv\")"
   ]
  },
  {
   "cell_type": "code",
   "execution_count": 123,
   "metadata": {},
   "outputs": [],
   "source": [
    "df.to_csv(\"Ohio_scraped_financing_info_Awarded_Only.csv\")"
   ]
  },
  {
   "cell_type": "code",
   "execution_count": 3,
   "metadata": {},
   "outputs": [],
   "source": [
    "df = pd.read_csv(\"Ohio_scraped_financing_info_Awarded_Only.csv\")"
   ]
  },
  {
   "cell_type": "code",
   "execution_count": 6,
   "metadata": {},
   "outputs": [
    {
     "data": {
      "text/plain": [
       "Tax Credit Equity                    56\n",
       "Deferred Developer Fee               44\n",
       "Other1                               41\n",
       "Construction Loan                    29\n",
       "Other2                               29\n",
       "Permanent First Loan, Hard Debt      24\n",
       "Other3                               16\n",
       "HDAP: OHTF/HOME                      11\n",
       "HDAP                                 11\n",
       "Other4                                8\n",
       "Permanent Second Loan                 7\n",
       "Other5                                5\n",
       "OHFA HDL                              3\n",
       "Historic Tax Credit Equity            3\n",
       "Construction Period Income            2\n",
       "Cuyahoga County Funds                 2\n",
       "City of Cleveland Funds               2\n",
       "Acquired Reserves                     2\n",
       "Seller Note                           2\n",
       "GP Equity                             2\n",
       "City of Columbus/Franklin County      1\n",
       "FHLB Cin. AHP                         1\n",
       "DDF and Other                         1\n",
       "Donations from Huntington and CHN     1\n",
       "Stark County HOME                     1\n",
       "GP Capital Contribution               1\n",
       "FHLB AHP                              1\n",
       "DDF & Other                           1\n",
       "Franklin County                       1\n",
       "Affordable Housing Trust              1\n",
       "Columbus City HOME                    1\n",
       "Donations                             1\n",
       "City of Columbus                      1\n",
       "Name: Source, dtype: int64"
      ]
     },
     "execution_count": 6,
     "metadata": {},
     "output_type": "execute_result"
    }
   ],
   "source": [
    "#look at the different funding sources to see what needs to be mapped \n",
    "df[\"Source\"].value_counts()"
   ]
  },
  {
   "cell_type": "code",
   "execution_count": 9,
   "metadata": {},
   "outputs": [],
   "source": [
    "df = df[df[\"Source\"]!='GP Capital Contribution']\n",
    "df = df[df[\"Source\"]!='GP Equity'] #drop GP contributions "
   ]
  },
  {
   "cell_type": "code",
   "execution_count": 25,
   "metadata": {},
   "outputs": [],
   "source": [
    "#create subcategories for types of financing, below code applies these and then creates a new column \n",
    "tax_credit = ['Tax Credit Equity']\n",
    "historic_tax_credit = ['Historic Tax Credit Equity']\n",
    "bank_loan = ['Construction Loan','Permanent First Loan, Hard Debt','Permanent Second Loan','Seller Note'] #for affordable housing trust http://hztrust.org/\n",
    "affordable_housing_trust = ['Affordable Housing Trust']\n",
    "deferred_dev = ['Deferred Developer Fee','DDF & Other','DDF and Other']\n",
    "state_credit = ['HDAP', 'HDAP: OHTF/HOME']  #without specifying which type of HDAP its hard to know if its a grant or loan, but seems liek more grant funding than loans https://ohiohome.org/ppd/documents/HDAP-Matrix-2020.pdf\n",
    "federal_credit = []\n",
    "federal_home_loan_bank = ['FHLB AHP','FHLB Cin. AHP']\n",
    "local_grant = ['City of Cleveland Funds', 'Cuyahoga County Funds''City of Columbus/Franklin County','Donations',\n",
    "       'City of Columbus', 'Franklin County','Stark County HOME', 'Columbus City HOME','Stark County HOME','Donations from Huntington and CHN','Donations'] #Home are grants https://www.bizjournals.com/columbus/news/2020/09/01/affordable-housing-programs-tax-credits-and-home.html, there was only 1 donation and I put it here but I'm not sure  \n",
    "public_private_partnership = [] \n",
    "fed_grant = []\n",
    "\n",
    "#unmapped Others, 'Construction Period Income' (shows up twice), 'Acquired Reserves' (also shows up twice)"
   ]
  },
  {
   "cell_type": "code",
   "execution_count": 26,
   "metadata": {},
   "outputs": [],
   "source": [
    "conditions = [\n",
    "    df[\"Source\"].isin(tax_credit),\n",
    "    df[\"Source\"].isin(historic_tax_credit),\n",
    "    df[\"Source\"].isin(bank_loan),\n",
    "    df[\"Source\"].isin(affordable_housing_trust),\n",
    "    df[\"Source\"].isin(deferred_dev),\n",
    "    df[\"Source\"].isin(state_credit),\n",
    "    df[\"Source\"].isin(federal_credit),\n",
    "    df[\"Source\"].isin(federal_home_loan_bank),\n",
    "    df[\"Source\"].isin(local_grant),\n",
    "    df[\"Source\"].isin(public_private_partnership),\n",
    "    df[\"Source\"].isin(fed_grant)]\n",
    "\n",
    "outputs = [\"Tax Credit\",\"Historic Tax Credit\",'Bank Loan',\"Affordable Housing Trust\",\"Deferred Developer Fee\",\"State Housing Credit Equity\",\n",
    "    \"Federal Housing Credit Equity\",\"Federal Home Loan Bank\",\"Local Grant\",\"Public Private Partnership\",\"Federal Grant\"]"
   ]
  },
  {
   "cell_type": "code",
   "execution_count": 28,
   "metadata": {},
   "outputs": [],
   "source": [
    "#this maps the funding sources above\n",
    "df[\"Financing_sub_cat\"] = np.select(conditions, outputs, 'Other')"
   ]
  },
  {
   "cell_type": "code",
   "execution_count": 33,
   "metadata": {},
   "outputs": [],
   "source": [
    "#drop unneeded index col, write out to csv \n",
    "df.drop([\"Unnamed: 0\"],axis=1).to_csv(\"Ohio_scraped_financing_info_Awarded_Only.csv\")"
   ]
  },
  {
   "cell_type": "code",
   "execution_count": 14,
   "metadata": {},
   "outputs": [],
   "source": [
    "awarded = pd.read_csv(\"Ohio_scraped_financing_info_Awarded_Only.csv\")"
   ]
  },
  {
   "cell_type": "code",
   "execution_count": 169,
   "metadata": {},
   "outputs": [],
   "source": [
    "def extract_from_ohio_extra_info(files):\n",
    "    \"\"\"\n",
    "    Inputs:\n",
    "        files (list) - strings of path to excel files\n",
    "    \n",
    "    This function scrapes info listed under col names from ohio lihtc files  \n",
    "    \"\"\"\n",
    "    cols = ['Project Name', 'Wage Requirement', 'Project Population',\"Building Type\", \"Construction Type\",\"Census Tract\", \n",
    "            \"Total Project Cost\",\"Total Units\"]\n",
    "    final_df = pd.DataFrame(columns=cols)\n",
    "    df = []\n",
    "    for file in files:\n",
    "        #print(\"starting file: \", file)\n",
    "        file_name = re.split(\"/\", file)[-1]\n",
    "        file_name = file_name[0:-4]\n",
    "        \n",
    "        try:\n",
    "            pdf = pdfplumber.open(file)\n",
    "            #print(len(pdf.pages[0].extract_tables()[0]))\n",
    "            project_information = pd.DataFrame(pdf.pages[0].extract_tables()[0])\n",
    "        except Exception as e:\n",
    "            print(\"cant read data\",file_name, e)\n",
    "\n",
    "            \n",
    "        try:\n",
    "            \n",
    "            new_row = [file_name, project_information[1][51],project_information[1][8].splitlines()[0],\n",
    "                       project_information[1][8].splitlines()[1],\n",
    "                      project_information[1][8].splitlines()[2],\n",
    "                       project_information[1][8].splitlines()[6],project_information[1][48],\n",
    "                       project_information[6][5].split('units')[0][-10:]+project_information[6][5].split('units')[0][10:]]\n",
    "            \n",
    "        except Exception as e:\n",
    "            print(\"cant grab data\",file_name, e)\n",
    "   \n",
    "        try:\n",
    "            zipped = zip(cols, new_row)\n",
    "            add_from_dict = dict(zipped)\n",
    "            df.append(add_from_dict)\n",
    "        \n",
    "        except Exception as e:\n",
    "            print(\"cant add new info\",file_name, e)\n",
    "        \n",
    "    final_df = final_df.append(df, True)   \n",
    "    return final_df"
   ]
  },
  {
   "cell_type": "code",
   "execution_count": 170,
   "metadata": {},
   "outputs": [
    {
     "name": "stdout",
     "output_type": "stream",
     "text": [
      "cant grab data ArtsApartmentsatMusicHall 'NoneType' object has no attribute 'split'\n",
      "cant grab data MayflowerManor list index out of range\n",
      "cant grab data EastVillage 'NoneType' object has no attribute 'split'\n",
      "cant grab data PincrestApartments 'NoneType' object has no attribute 'split'\n",
      "cant grab data BerwynEastPlace 51\n",
      "cant grab data FieldsErtelTownhomes 'NoneType' object has no attribute 'split'\n",
      "cant grab data AppleseedSeniorApartments 51\n",
      "cant grab data BrynMawrGlen 'NoneType' object has no attribute 'split'\n",
      "cant grab data SW-DetroitShorewayHomes 51\n",
      "cant grab data NorthlandGate 51\n",
      "cant grab data AtchesonPlaceLofts (1) 'NoneType' object has no attribute 'split'\n"
     ]
    }
   ],
   "source": [
    "test_take = extract_from_ohio_extra_info(files)\n",
    "#Only northland gate is a 9% project, can ignore the errors with rest of the readings "
   ]
  },
  {
   "cell_type": "code",
   "execution_count": 182,
   "metadata": {},
   "outputs": [
    {
     "data": {
      "text/plain": [
       "30"
      ]
     },
     "execution_count": 182,
     "metadata": {},
     "output_type": "execute_result"
    }
   ],
   "source": [
    "len(nine_percent_projects)"
   ]
  },
  {
   "cell_type": "code",
   "execution_count": 183,
   "metadata": {},
   "outputs": [],
   "source": [
    "df_filtered = test_take[test_take[\"Project Name\"].isin(nine_percent_projects)]"
   ]
  },
  {
   "cell_type": "code",
   "execution_count": 185,
   "metadata": {},
   "outputs": [
    {
     "data": {
      "text/plain": [
       "30"
      ]
     },
     "execution_count": 185,
     "metadata": {},
     "output_type": "execute_result"
    }
   ],
   "source": [
    "# we have data on 30 projects, like we expected to \n",
    "len(df_filtered)"
   ]
  },
  {
   "cell_type": "code",
   "execution_count": 157,
   "metadata": {},
   "outputs": [],
   "source": [
    "#need to filter new extracted info for just 9 percent projects \n",
    "valid = pd.read_csv(\"Ohio_Financing_PDF_Extraction/Ohio_scraped_financing_info_Awarded_Only.csv\")\n",
    "#only northland gate was unable to be grabbed and is also a valid \n",
    "nine_percent_projects = sorted(list(valid[\"File Name\"].unique()))\n",
    "\n",
    "df_filtered = test_take[test_take[\"Project Name\"].isin(nine_percent_projects)]"
   ]
  },
  {
   "cell_type": "code",
   "execution_count": 249,
   "metadata": {},
   "outputs": [],
   "source": [
    "#want to do some final cleaning \n",
    "def clean_up_ohio_auxilary_data(df):\n",
    "    \"\"\"\n",
    "    strip out extra text from pdf extraction \n",
    "    \n",
    "    \"\"\"\n",
    "    df[\"Total Project Cost\"] = df[\"Total Project Cost\"].str.translate(str.maketrans('', '', string.punctuation)).str.extract('(\\d+)')\n",
    "    df[\"Total Project Cost\"] = df[\"Total Project Cost\"].astype(str).str[:-2].astype(int) #shave off cents part \n",
    "    df[\"Census Tract\"] = df[\"Census Tract\"].str.extract('(\\d+)')\n",
    "    df[\"Building Type\"] = df[\"Building Type\"].str[-11:]\n",
    "    df[\"Project Population\"] = df[\"Project Population\"].str[11:]\n",
    "    df[\"Wage Requirement\"] = df[\"Wage Requirement\"].str[17:]\n",
    "    df[\"Construction Type\"] = df[\"Construction Type\"].str[18:]\n",
    "    df = df.reset_index().drop(columns=[\"index\"])\n",
    "    \n",
    "    return df \n",
    "    "
   ]
  },
  {
   "cell_type": "code",
   "execution_count": null,
   "metadata": {},
   "outputs": [],
   "source": [
    "import warnings\n",
    "warnings.filterwarnings('ignore')\n",
    "df_filtered = clean_up_ohio_auxilary_data(df_filtered)"
   ]
  },
  {
   "cell_type": "code",
   "execution_count": 233,
   "metadata": {},
   "outputs": [],
   "source": [
    "#Note: bmanually added data from Northland gate, manually pulled out number of units from units text \n",
    "df_filtered.to_csv(\"clean_me.csv\")\n",
    "df_filtered_post_manual = pd.read_csv(\"ohio_cleaned.csv\")"
   ]
  },
  {
   "cell_type": "code",
   "execution_count": 255,
   "metadata": {},
   "outputs": [],
   "source": [
    "#read in nine percent financing data \n",
    "nine_percent = pd.read_csv(\"Ohio_scraped_financing_info_Awarded_Only.csv\")\n",
    "nine_percent = nine_percent.drop(columns = [\"Unnamed: 0\"])\n",
    "#rename to make merge cleaner \n",
    "nine_percent = nine_percent.rename(columns={\"File Name\":\"Project Name\"})"
   ]
  },
  {
   "cell_type": "code",
   "execution_count": 261,
   "metadata": {},
   "outputs": [
    {
     "data": {
      "text/html": [
       "<div>\n",
       "<style scoped>\n",
       "    .dataframe tbody tr th:only-of-type {\n",
       "        vertical-align: middle;\n",
       "    }\n",
       "\n",
       "    .dataframe tbody tr th {\n",
       "        vertical-align: top;\n",
       "    }\n",
       "\n",
       "    .dataframe thead th {\n",
       "        text-align: right;\n",
       "    }\n",
       "</style>\n",
       "<table border=\"1\" class=\"dataframe\">\n",
       "  <thead>\n",
       "    <tr style=\"text-align: right;\">\n",
       "      <th></th>\n",
       "      <th>Project Name</th>\n",
       "      <th>Wage Requirement</th>\n",
       "      <th>Project Population</th>\n",
       "      <th>Building Type</th>\n",
       "      <th>Construction Type</th>\n",
       "      <th>Census Tract</th>\n",
       "      <th>Total Project Cost</th>\n",
       "      <th>Total Units</th>\n",
       "    </tr>\n",
       "  </thead>\n",
       "  <tbody>\n",
       "    <tr>\n",
       "      <th>0</th>\n",
       "      <td>SheltonGardens</td>\n",
       "      <td>Davis Bacon</td>\n",
       "      <td>Families</td>\n",
       "      <td>Multifamily</td>\n",
       "      <td>Construction Type Rehabilitation</td>\n",
       "      <td>39061007700</td>\n",
       "      <td>12984615</td>\n",
       "      <td>137</td>\n",
       "    </tr>\n",
       "    <tr>\n",
       "      <th>1</th>\n",
       "      <td>JenkinsStreetLofts</td>\n",
       "      <td>None</td>\n",
       "      <td>Families</td>\n",
       "      <td>Multifamily</td>\n",
       "      <td>Construction Type New Construction</td>\n",
       "      <td>39049005820</td>\n",
       "      <td>11998783</td>\n",
       "      <td>60</td>\n",
       "    </tr>\n",
       "    <tr>\n",
       "      <th>2</th>\n",
       "      <td>EasternWoodsSenior</td>\n",
       "      <td>None</td>\n",
       "      <td>Seniors</td>\n",
       "      <td>Multifamily</td>\n",
       "      <td>Construction Type New Construction</td>\n",
       "      <td>39063000200</td>\n",
       "      <td>8879220</td>\n",
       "      <td>50</td>\n",
       "    </tr>\n",
       "    <tr>\n",
       "      <th>3</th>\n",
       "      <td>CarpenterHall</td>\n",
       "      <td>0</td>\n",
       "      <td>Families</td>\n",
       "      <td>Multifamily</td>\n",
       "      <td>Construction Type Rehabilitation</td>\n",
       "      <td>39009973902</td>\n",
       "      <td>7700005</td>\n",
       "      <td>53</td>\n",
       "    </tr>\n",
       "    <tr>\n",
       "      <th>4</th>\n",
       "      <td>CarpenterHall</td>\n",
       "      <td>0</td>\n",
       "      <td>Families</td>\n",
       "      <td>Multifamily</td>\n",
       "      <td>Construction Type Rehabilitation</td>\n",
       "      <td>39009973902</td>\n",
       "      <td>7700005</td>\n",
       "      <td>53</td>\n",
       "    </tr>\n",
       "  </tbody>\n",
       "</table>\n",
       "</div>"
      ],
      "text/plain": [
       "         Project Name Wage Requirement Project Population Building Type  \\\n",
       "0  SheltonGardens      Davis Bacon      Families           Multifamily    \n",
       "1  JenkinsStreetLofts  None             Families           Multifamily    \n",
       "2  EasternWoodsSenior  None             Seniors            Multifamily    \n",
       "3  CarpenterHall       0                Families           Multifamily    \n",
       "4  CarpenterHall       0                Families           Multifamily    \n",
       "\n",
       "                    Construction Type  Census Tract  Total Project Cost  \\\n",
       "0  Construction Type Rehabilitation    39061007700   12984615             \n",
       "1  Construction Type New Construction  39049005820   11998783             \n",
       "2  Construction Type New Construction  39063000200   8879220              \n",
       "3  Construction Type Rehabilitation    39009973902   7700005              \n",
       "4  Construction Type Rehabilitation    39009973902   7700005              \n",
       "\n",
       "   Total Units  \n",
       "0  137          \n",
       "1  60           \n",
       "2  50           \n",
       "3  53           \n",
       "4  53           "
      ]
     },
     "execution_count": 261,
     "metadata": {},
     "output_type": "execute_result"
    }
   ],
   "source": [
    "df_filtered_post_manual.head()"
   ]
  },
  {
   "cell_type": "code",
   "execution_count": 265,
   "metadata": {},
   "outputs": [],
   "source": [
    "final_df = df_filtered_post_manual.merge(nine_percent, on=\"Project Name\")"
   ]
  },
  {
   "cell_type": "code",
   "execution_count": 271,
   "metadata": {},
   "outputs": [],
   "source": [
    "final_df.to_csv(\"Ohio_Lihtc_9%_financing_final.csv\")"
   ]
  }
 ],
 "metadata": {
  "kernelspec": {
   "display_name": "Python 3",
   "language": "python",
   "name": "python3"
  },
  "language_info": {
   "codemirror_mode": {
    "name": "ipython",
    "version": 3
   },
   "file_extension": ".py",
   "mimetype": "text/x-python",
   "name": "python",
   "nbconvert_exporter": "python",
   "pygments_lexer": "ipython3",
   "version": "3.7.2"
  }
 },
 "nbformat": 4,
 "nbformat_minor": 2
}
