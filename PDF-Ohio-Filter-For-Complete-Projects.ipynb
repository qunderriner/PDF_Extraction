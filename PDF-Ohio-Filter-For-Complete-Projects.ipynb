{
 "cells": [
  {
   "cell_type": "code",
   "execution_count": 2,
   "metadata": {},
   "outputs": [],
   "source": [
    "import os\n",
    "import pdfplumber\n",
    "import glob\n",
    "import re\n",
    "import pandas as pd\n",
    "import numpy as np"
   ]
  },
  {
   "cell_type": "markdown",
   "metadata": {},
   "source": [
    "### Extract affordable housing financing data from Ohio PDFs\n"
   ]
  },
  {
   "cell_type": "code",
   "execution_count": 10,
   "metadata": {},
   "outputs": [],
   "source": [
    "#filepath to PDFs\n",
    "filepath = 'Ohio 2019 Applications/'\n",
    "# create a list of filepaths \n",
    "files = glob.glob(filepath+\"*.pdf\", recursive = True)"
   ]
  },
  {
   "cell_type": "code",
   "execution_count": 13,
   "metadata": {},
   "outputs": [],
   "source": [
    "test = \"AmberlySquareApts.pdf\""
   ]
  },
  {
   "cell_type": "code",
   "execution_count": 14,
   "metadata": {},
   "outputs": [],
   "source": [
    "pdf = pdfplumber.open(test)\n",
    "#print(len(pdf.pages[0].extract_tables()[0]))\n",
    "df = pd.DataFrame(pdf.pages[0].extract_tables()[0])"
   ]
  },
  {
   "cell_type": "code",
   "execution_count": 59,
   "metadata": {},
   "outputs": [],
   "source": [
    "wage = df[38:][1][51] \n"
   ]
  },
  {
   "cell_type": "code",
   "execution_count": 63,
   "metadata": {},
   "outputs": [
    {
     "data": {
      "text/plain": [
       "'Ohio Prevailing Wage'"
      ]
     },
     "execution_count": 63,
     "metadata": {},
     "output_type": "execute_result"
    }
   ],
   "source": [
    "wage[17:]"
   ]
  },
  {
   "cell_type": "markdown",
   "metadata": {},
   "source": [
    "The pdf reader does not correctly extract tables from these documents, however it does pull data out in a relativley predictable pattern. Below I check for files that have the same structure - only 4 out of 121 do not, so instead of worry about the edge cases I store them in the list \"broken files\" and will deal with those manually."
   ]
  },
  {
   "cell_type": "code",
   "execution_count": 109,
   "metadata": {},
   "outputs": [
    {
     "name": "stdout",
     "output_type": "stream",
     "text": [
      "Ohio 2019 Applications/MayflowerManor.pdf (56, 14)\n",
      "Ohio 2019 Applications/BerwynEastPlace.pdf (25, 9)\n",
      "Ohio 2019 Applications/AppleseedSeniorApartments.pdf (35, 14)\n",
      "Ohio 2019 Applications/SW-DetroitShorewayHomes.pdf (35, 13)\n"
     ]
    }
   ],
   "source": [
    "for file in files:\n",
    "    pdf = pdfplumber.open(file)\n",
    "    #print(len(pdf.pages[0].extract_tables()[0]))\n",
    "    df = pd.DataFrame(pdf.pages[0].extract_tables()[0])\n",
    "    if df.shape[0] > 40 and df.iloc[37].values[1] == 'Construction Financing Sources':\n",
    "        continue\n",
    "    else:\n",
    "        print(file, df.shape)"
   ]
  },
  {
   "cell_type": "code",
   "execution_count": 111,
   "metadata": {},
   "outputs": [],
   "source": [
    "broken_files = [\"Ohio 2019 Applications/MayflowerManor.pdf\",\n",
    "\"Ohio 2019 Applications/BerwynEastPlace.pdf\",\n",
    "\"Ohio 2019 Applications/AppleseedSeniorApartments.pdf\",\n",
    "\"Ohio 2019 Applications/SW-DetroitShorewayHomes.pdf\"]\n",
    "\n",
    "files = list(set(files) - set(broken_files)) #remove broken files from master set of files "
   ]
  },
  {
   "cell_type": "code",
   "execution_count": 25,
   "metadata": {},
   "outputs": [],
   "source": [
    "def scrape_ohio(files):\n",
    "    \"\"\"\n",
    "    Inputs:\n",
    "        Files (list): List of full filepaths to the PDFs for Virginia. \n",
    "    This file notices that while the extract table function of the PDF reader does not exactly work\n",
    "    in capturing the correct tables, the data follows a similar pattern and so it slices into \n",
    "    the files and grabs the relevent info from \"Construction Financing Sources\" \n",
    "    and \"Permenant Financing Sources\"\n",
    "    \"\"\"\n",
    "    money = []\n",
    "    wage_requirement = []\n",
    "    for file in files:\n",
    "        pdf = pdfplumber.open(file)\n",
    "        df = pd.DataFrame(pdf.pages[0].extract_tables()[0])\n",
    "        money_type = df.loc[37,1] #construction\n",
    "        file_name = re.split(\"/\", file)[-1] #regex to pull the filename from the filepath\n",
    "        file_name = file_name[0:-4]\n",
    "\n",
    "        for row in df[38:][1]:\n",
    "            if 'TOTAL' in row:\n",
    "                break\n",
    "            else:\n",
    "                print(row, \"i am a row\")\n",
    "                money.append([x.strip() for x in row.split('$')]+[money_type]+[file_name])\n",
    "                wage_r = df[38:][1][51][17:]\n",
    "                wage_requirement.append(wage_r + [file_name])\n",
    "        money_type = df.loc[37,6] #permanent\n",
    "        for row in df[38:][6]:\n",
    "            if 'TOTAL' in row:\n",
    "                break\n",
    "            else:\n",
    "                money.append([x.strip() for x in row.split('$')]+[money_type]+[file_name])\n",
    "\n",
    "    money_df = pd.DataFrame(money, columns=['Source',\"Amount of Funds\",\"Funding Type\",\"File Name\"])\n",
    "    money_df = money_df[~money_df[\"Amount of Funds\"].str.contains(\"-\")] #drop the blanks \n",
    "    wage_requirement_df = []\n",
    "     \n",
    "    \n",
    "    return money_df "
   ]
  },
  {
   "cell_type": "code",
   "execution_count": 111,
   "metadata": {},
   "outputs": [],
   "source": [
    "df = pd.read_csv(\"Ohio_scraped_financing_info.csv\")"
   ]
  },
  {
   "cell_type": "code",
   "execution_count": 115,
   "metadata": {},
   "outputs": [],
   "source": [
    "awards = awards.str.replace(' ', '')\n",
    "#df.columns = df.columns.str.replace(' ', '')"
   ]
  },
  {
   "cell_type": "code",
   "execution_count": 118,
   "metadata": {},
   "outputs": [],
   "source": [
    "awards = awards.iloc[1:]"
   ]
  },
  {
   "cell_type": "code",
   "execution_count": 112,
   "metadata": {},
   "outputs": [
    {
     "data": {
      "text/html": [
       "<div>\n",
       "<style scoped>\n",
       "    .dataframe tbody tr th:only-of-type {\n",
       "        vertical-align: middle;\n",
       "    }\n",
       "\n",
       "    .dataframe tbody tr th {\n",
       "        vertical-align: top;\n",
       "    }\n",
       "\n",
       "    .dataframe thead th {\n",
       "        text-align: right;\n",
       "    }\n",
       "</style>\n",
       "<table border=\"1\" class=\"dataframe\">\n",
       "  <thead>\n",
       "    <tr style=\"text-align: right;\">\n",
       "      <th></th>\n",
       "      <th>Unnamed: 0</th>\n",
       "      <th>Source</th>\n",
       "      <th>Amount of Funds</th>\n",
       "      <th>Funding Type</th>\n",
       "      <th>File Name</th>\n",
       "    </tr>\n",
       "  </thead>\n",
       "  <tbody>\n",
       "    <tr>\n",
       "      <th>0</th>\n",
       "      <td>0</td>\n",
       "      <td>Tax Credit Equity</td>\n",
       "      <td>1,765,000.85</td>\n",
       "      <td>Construction Financing Sources</td>\n",
       "      <td>CedarRedevelopment</td>\n",
       "    </tr>\n",
       "    <tr>\n",
       "      <th>1</th>\n",
       "      <td>1</td>\n",
       "      <td>HDAP</td>\n",
       "      <td>1,500,000.00</td>\n",
       "      <td>Construction Financing Sources</td>\n",
       "      <td>CedarRedevelopment</td>\n",
       "    </tr>\n",
       "    <tr>\n",
       "      <th>2</th>\n",
       "      <td>2</td>\n",
       "      <td>Deferred Developer Fee</td>\n",
       "      <td>669,512.00</td>\n",
       "      <td>Construction Financing Sources</td>\n",
       "      <td>CedarRedevelopment</td>\n",
       "    </tr>\n",
       "    <tr>\n",
       "      <th>3</th>\n",
       "      <td>3</td>\n",
       "      <td>Construction Loan</td>\n",
       "      <td>10,046,087.15</td>\n",
       "      <td>Construction Financing Sources</td>\n",
       "      <td>CedarRedevelopment</td>\n",
       "    </tr>\n",
       "    <tr>\n",
       "      <th>4</th>\n",
       "      <td>4</td>\n",
       "      <td>Other1</td>\n",
       "      <td>500,000.00</td>\n",
       "      <td>Construction Financing Sources</td>\n",
       "      <td>CedarRedevelopment</td>\n",
       "    </tr>\n",
       "    <tr>\n",
       "      <th>...</th>\n",
       "      <td>...</td>\n",
       "      <td>...</td>\n",
       "      <td>...</td>\n",
       "      <td>...</td>\n",
       "      <td>...</td>\n",
       "    </tr>\n",
       "    <tr>\n",
       "      <th>1295</th>\n",
       "      <td>1381</td>\n",
       "      <td>Tax Credit Equity</td>\n",
       "      <td>6,707,586</td>\n",
       "      <td>Permanent Financing Sources</td>\n",
       "      <td>SW-DetroitShorewayHomes</td>\n",
       "    </tr>\n",
       "    <tr>\n",
       "      <th>1296</th>\n",
       "      <td>1382</td>\n",
       "      <td>Deferred Developer Fee</td>\n",
       "      <td>58,445</td>\n",
       "      <td>Permanent Financing Sources</td>\n",
       "      <td>SW-DetroitShorewayHomes</td>\n",
       "    </tr>\n",
       "    <tr>\n",
       "      <th>1297</th>\n",
       "      <td>1383</td>\n",
       "      <td>Permanent First Loan, Hard Debt</td>\n",
       "      <td>390,000</td>\n",
       "      <td>Permanent Financing Sources</td>\n",
       "      <td>SW-DetroitShorewayHomes</td>\n",
       "    </tr>\n",
       "    <tr>\n",
       "      <th>1298</th>\n",
       "      <td>1384</td>\n",
       "      <td>Other1</td>\n",
       "      <td>600,000</td>\n",
       "      <td>Permanent Financing Sources</td>\n",
       "      <td>SW-DetroitShorewayHomes</td>\n",
       "    </tr>\n",
       "    <tr>\n",
       "      <th>1299</th>\n",
       "      <td>1385</td>\n",
       "      <td>Other2</td>\n",
       "      <td>100</td>\n",
       "      <td>Permanent Financing Sources</td>\n",
       "      <td>SW-DetroitShorewayHomes</td>\n",
       "    </tr>\n",
       "  </tbody>\n",
       "</table>\n",
       "<p>1300 rows × 5 columns</p>\n",
       "</div>"
      ],
      "text/plain": [
       "      Unnamed: 0                           Source Amount of Funds  \\\n",
       "0              0                Tax Credit Equity    1,765,000.85   \n",
       "1              1                             HDAP    1,500,000.00   \n",
       "2              2           Deferred Developer Fee      669,512.00   \n",
       "3              3                Construction Loan   10,046,087.15   \n",
       "4              4                           Other1      500,000.00   \n",
       "...          ...                              ...             ...   \n",
       "1295        1381                Tax Credit Equity       6,707,586   \n",
       "1296        1382           Deferred Developer Fee          58,445   \n",
       "1297        1383  Permanent First Loan, Hard Debt         390,000   \n",
       "1298        1384                           Other1         600,000   \n",
       "1299        1385                           Other2             100   \n",
       "\n",
       "                        Funding Type                File Name  \n",
       "0     Construction Financing Sources       CedarRedevelopment  \n",
       "1     Construction Financing Sources       CedarRedevelopment  \n",
       "2     Construction Financing Sources       CedarRedevelopment  \n",
       "3     Construction Financing Sources       CedarRedevelopment  \n",
       "4     Construction Financing Sources       CedarRedevelopment  \n",
       "...                              ...                      ...  \n",
       "1295     Permanent Financing Sources  SW-DetroitShorewayHomes  \n",
       "1296     Permanent Financing Sources  SW-DetroitShorewayHomes  \n",
       "1297     Permanent Financing Sources  SW-DetroitShorewayHomes  \n",
       "1298     Permanent Financing Sources  SW-DetroitShorewayHomes  \n",
       "1299     Permanent Financing Sources  SW-DetroitShorewayHomes  \n",
       "\n",
       "[1300 rows x 5 columns]"
      ]
     },
     "execution_count": 112,
     "metadata": {},
     "output_type": "execute_result"
    }
   ],
   "source": [
    "df"
   ]
  },
  {
   "cell_type": "code",
   "execution_count": 136,
   "metadata": {},
   "outputs": [],
   "source": [
    "#drop duplicates \n",
    "df1 = df[~df[\"File Name\"].str.contains(\"(1)\")]\n",
    "df = pd.read_csv(\"Ohio_scraped_financing_info.csv\")"
   ]
  },
  {
   "cell_type": "code",
   "execution_count": 144,
   "metadata": {},
   "outputs": [],
   "source": [
    "#write to csv\n",
    "df1.to_csv(\"Ohio_scraped_financing_info.csv\")"
   ]
  },
  {
   "cell_type": "code",
   "execution_count": null,
   "metadata": {},
   "outputs": [],
   "source": [
    "df = pd.read_csv(\"Ohio_scraped_financing_info.csv\")\n",
    "#read in list of those who actually won awards, this will also filter out the 4% and bond gap programs \n",
    "awards = pd.read_csv(\"2019-HTC-CompetitiveAwards.csv\")\n",
    "# link to data: https://ohiohome.org/ppd/documents/2019-HTC-CompetitiveAwards.xlsx\n",
    "awards = awards[\"Unnamed: 1\"]#drop this if col doesn't exist\n",
    "awards = awards.dropna()\n",
    "#now we have list of just those we want to keep \n",
    "awards = awards.str.replace(' ', '') #drop whitespace so place names match\n",
    "awards = awards.iloc[1:]\n",
    "df = df[df[\"Source\"]!='GP Capital Contribution']\n",
    "df = df[df[\"Source\"]!='GP Equity'] #drop GP contributions \n",
    "\n",
    "#filter for only ones we want \n",
    "df = df[df['File Name'].isin(awards)]\n",
    "df.to_csv(\"Ohio_scraped_financing_info_Awarded_Only.csv\")"
   ]
  },
  {
   "cell_type": "code",
   "execution_count": 123,
   "metadata": {},
   "outputs": [],
   "source": [
    "df.to_csv(\"Ohio_scraped_financing_info_Awarded_Only.csv\")"
   ]
  },
  {
   "cell_type": "code",
   "execution_count": 3,
   "metadata": {},
   "outputs": [],
   "source": [
    "import pandas as pd\n",
    "df = pd.read_csv(\"Ohio_scraped_financing_info_Awarded_Only.csv\")"
   ]
  },
  {
   "cell_type": "code",
   "execution_count": 6,
   "metadata": {},
   "outputs": [
    {
     "data": {
      "text/plain": [
       "Tax Credit Equity                    56\n",
       "Deferred Developer Fee               44\n",
       "Other1                               41\n",
       "Construction Loan                    29\n",
       "Other2                               29\n",
       "Permanent First Loan, Hard Debt      24\n",
       "Other3                               16\n",
       "HDAP: OHTF/HOME                      11\n",
       "HDAP                                 11\n",
       "Other4                                8\n",
       "Permanent Second Loan                 7\n",
       "Other5                                5\n",
       "OHFA HDL                              3\n",
       "Historic Tax Credit Equity            3\n",
       "Construction Period Income            2\n",
       "Cuyahoga County Funds                 2\n",
       "City of Cleveland Funds               2\n",
       "Acquired Reserves                     2\n",
       "Seller Note                           2\n",
       "GP Equity                             2\n",
       "City of Columbus/Franklin County      1\n",
       "FHLB Cin. AHP                         1\n",
       "DDF and Other                         1\n",
       "Donations from Huntington and CHN     1\n",
       "Stark County HOME                     1\n",
       "GP Capital Contribution               1\n",
       "FHLB AHP                              1\n",
       "DDF & Other                           1\n",
       "Franklin County                       1\n",
       "Affordable Housing Trust              1\n",
       "Columbus City HOME                    1\n",
       "Donations                             1\n",
       "City of Columbus                      1\n",
       "Name: Source, dtype: int64"
      ]
     },
     "execution_count": 6,
     "metadata": {},
     "output_type": "execute_result"
    }
   ],
   "source": [
    "df[\"Source\"].value_counts()"
   ]
  },
  {
   "cell_type": "code",
   "execution_count": 11,
   "metadata": {},
   "outputs": [
    {
     "data": {
      "text/plain": [
       "array(['Tax Credit Equity', 'Construction Loan', 'Other1', 'Other2',\n",
       "       'Other4', 'Deferred Developer Fee', 'HDAP', 'HDAP: OHTF/HOME',\n",
       "       'Permanent First Loan, Hard Debt', 'Other3',\n",
       "       'Permanent Second Loan', 'Other5', 'DDF & Other',\n",
       "       'Historic Tax Credit Equity', 'OHFA HDL', 'Acquired Reserves',\n",
       "       'Construction Period Income', 'Seller Note', 'Stark County HOME',\n",
       "       'Columbus City HOME', 'Affordable Housing Trust',\n",
       "       'City of Columbus/Franklin County', 'FHLB AHP', 'Donations',\n",
       "       'City of Columbus', 'Franklin County', 'FHLB Cin. AHP',\n",
       "       'Donations from Huntington and CHN', 'DDF and Other',\n",
       "       'City of Cleveland Funds', 'Cuyahoga County Funds'], dtype=object)"
      ]
     },
     "execution_count": 11,
     "metadata": {},
     "output_type": "execute_result"
    }
   ],
   "source": [
    "df[\"Source\"].unique()"
   ]
  },
  {
   "cell_type": "code",
   "execution_count": 9,
   "metadata": {},
   "outputs": [],
   "source": [
    "df = df[df[\"Source\"]!='GP Capital Contribution']\n",
    "df = df[df[\"Source\"]!='GP Equity'] #drop GP contributions "
   ]
  },
  {
   "cell_type": "code",
   "execution_count": 25,
   "metadata": {},
   "outputs": [],
   "source": [
    "#create subcategories for types of financing, below code applies these and then creates a new column \n",
    "tax_credit = ['Tax Credit Equity']\n",
    "historic_tax_credit = ['Historic Tax Credit Equity']\n",
    "bank_loan = ['Construction Loan','Permanent First Loan, Hard Debt','Permanent Second Loan','Seller Note'] #for affordable housing trust http://hztrust.org/\n",
    "affordable_housing_trust = ['Affordable Housing Trust']\n",
    "deferred_dev = ['Deferred Developer Fee','DDF & Other','DDF and Other']\n",
    "state_credit = ['HDAP', 'HDAP: OHTF/HOME']  #without specifying which type of HDAP its hard to know if its a grant or loan, but seems liek more grant funding than loans https://ohiohome.org/ppd/documents/HDAP-Matrix-2020.pdf\n",
    "federal_credit = []\n",
    "federal_home_loan_bank = ['FHLB AHP','FHLB Cin. AHP']\n",
    "local_grant = ['City of Cleveland Funds', 'Cuyahoga County Funds''City of Columbus/Franklin County','Donations',\n",
    "       'City of Columbus', 'Franklin County','Stark County HOME', 'Columbus City HOME','Stark County HOME','Donations from Huntington and CHN','Donations'] #Home are grants https://www.bizjournals.com/columbus/news/2020/09/01/affordable-housing-programs-tax-credits-and-home.html, there was only 1 donation and I put it here but I'm not sure  \n",
    "public_private_partnership = [] \n",
    "fed_grant = []\n",
    "\n",
    "#unmapped Others, 'Construction Period Income' (shows up twice), 'Acquired Reserves' (also shows up twice)"
   ]
  },
  {
   "cell_type": "code",
   "execution_count": 19,
   "metadata": {},
   "outputs": [
    {
     "data": {
      "text/html": [
       "<div>\n",
       "<style scoped>\n",
       "    .dataframe tbody tr th:only-of-type {\n",
       "        vertical-align: middle;\n",
       "    }\n",
       "\n",
       "    .dataframe tbody tr th {\n",
       "        vertical-align: top;\n",
       "    }\n",
       "\n",
       "    .dataframe thead th {\n",
       "        text-align: right;\n",
       "    }\n",
       "</style>\n",
       "<table border=\"1\" class=\"dataframe\">\n",
       "  <thead>\n",
       "    <tr style=\"text-align: right;\">\n",
       "      <th></th>\n",
       "      <th>Unnamed: 0</th>\n",
       "      <th>Source</th>\n",
       "      <th>Amount of Funds</th>\n",
       "      <th>Funding Type</th>\n",
       "      <th>File Name</th>\n",
       "      <th>Financing_sub_cat</th>\n",
       "    </tr>\n",
       "  </thead>\n",
       "  <tbody>\n",
       "    <tr>\n",
       "      <th>0</th>\n",
       "      <td>24</td>\n",
       "      <td>Tax Credit Equity</td>\n",
       "      <td>187,828.00</td>\n",
       "      <td>Construction Financing Sources</td>\n",
       "      <td>PrairieViewApartments</td>\n",
       "      <td>Tax Credit</td>\n",
       "    </tr>\n",
       "    <tr>\n",
       "      <th>1</th>\n",
       "      <td>25</td>\n",
       "      <td>Construction Loan</td>\n",
       "      <td>4,709,536.00</td>\n",
       "      <td>Construction Financing Sources</td>\n",
       "      <td>PrairieViewApartments</td>\n",
       "      <td>Bank Loan</td>\n",
       "    </tr>\n",
       "    <tr>\n",
       "      <th>2</th>\n",
       "      <td>26</td>\n",
       "      <td>Other1</td>\n",
       "      <td>1,250,000.00</td>\n",
       "      <td>Construction Financing Sources</td>\n",
       "      <td>PrairieViewApartments</td>\n",
       "      <td>Other</td>\n",
       "    </tr>\n",
       "    <tr>\n",
       "      <th>3</th>\n",
       "      <td>27</td>\n",
       "      <td>Other2</td>\n",
       "      <td>249,750.00</td>\n",
       "      <td>Construction Financing Sources</td>\n",
       "      <td>PrairieViewApartments</td>\n",
       "      <td>Other</td>\n",
       "    </tr>\n",
       "    <tr>\n",
       "      <th>4</th>\n",
       "      <td>28</td>\n",
       "      <td>Other4</td>\n",
       "      <td>1,275,733.00</td>\n",
       "      <td>Construction Financing Sources</td>\n",
       "      <td>PrairieViewApartments</td>\n",
       "      <td>Other</td>\n",
       "    </tr>\n",
       "  </tbody>\n",
       "</table>\n",
       "</div>"
      ],
      "text/plain": [
       "   Unnamed: 0             Source Amount of Funds  \\\n",
       "0          24  Tax Credit Equity      187,828.00   \n",
       "1          25  Construction Loan    4,709,536.00   \n",
       "2          26             Other1    1,250,000.00   \n",
       "3          27             Other2      249,750.00   \n",
       "4          28             Other4    1,275,733.00   \n",
       "\n",
       "                     Funding Type              File Name Financing_sub_cat  \n",
       "0  Construction Financing Sources  PrairieViewApartments        Tax Credit  \n",
       "1  Construction Financing Sources  PrairieViewApartments         Bank Loan  \n",
       "2  Construction Financing Sources  PrairieViewApartments             Other  \n",
       "3  Construction Financing Sources  PrairieViewApartments             Other  \n",
       "4  Construction Financing Sources  PrairieViewApartments             Other  "
      ]
     },
     "execution_count": 19,
     "metadata": {},
     "output_type": "execute_result"
    }
   ],
   "source": [
    "df.head()"
   ]
  },
  {
   "cell_type": "code",
   "execution_count": 26,
   "metadata": {},
   "outputs": [],
   "source": [
    "conditions = [\n",
    "    df[\"Source\"].isin(tax_credit),\n",
    "    df[\"Source\"].isin(historic_tax_credit),\n",
    "    df[\"Source\"].isin(bank_loan),\n",
    "    df[\"Source\"].isin(affordable_housing_trust),\n",
    "    df[\"Source\"].isin(deferred_dev),\n",
    "    df[\"Source\"].isin(state_credit),\n",
    "    df[\"Source\"].isin(federal_credit),\n",
    "    df[\"Source\"].isin(federal_home_loan_bank),\n",
    "    df[\"Source\"].isin(local_grant),\n",
    "    df[\"Source\"].isin(public_private_partnership),\n",
    "    df[\"Source\"].isin(fed_grant)]"
   ]
  },
  {
   "cell_type": "code",
   "execution_count": 27,
   "metadata": {},
   "outputs": [],
   "source": [
    "outputs = [\"Tax Credit\",\"Historic Tax Credit\",'Bank Loan',\"Affordable Housing Trust\",\"Deferred Developer Fee\",\"State Housing Credit Equity\",\n",
    "    \"Federal Housing Credit Equity\",\"Federal Home Loan Bank\",\"Local Grant\",\"Public Private Partnership\",\"Federal Grant\"]"
   ]
  },
  {
   "cell_type": "code",
   "execution_count": 28,
   "metadata": {},
   "outputs": [],
   "source": [
    "import numpy as np\n",
    "df[\"Financing_sub_cat\"] = np.select(conditions, outputs, 'Other')"
   ]
  },
  {
   "cell_type": "code",
   "execution_count": 29,
   "metadata": {},
   "outputs": [
    {
     "data": {
      "text/html": [
       "<div>\n",
       "<style scoped>\n",
       "    .dataframe tbody tr th:only-of-type {\n",
       "        vertical-align: middle;\n",
       "    }\n",
       "\n",
       "    .dataframe tbody tr th {\n",
       "        vertical-align: top;\n",
       "    }\n",
       "\n",
       "    .dataframe thead th {\n",
       "        text-align: right;\n",
       "    }\n",
       "</style>\n",
       "<table border=\"1\" class=\"dataframe\">\n",
       "  <thead>\n",
       "    <tr style=\"text-align: right;\">\n",
       "      <th></th>\n",
       "      <th>Unnamed: 0</th>\n",
       "      <th>Source</th>\n",
       "      <th>Amount of Funds</th>\n",
       "      <th>Funding Type</th>\n",
       "      <th>File Name</th>\n",
       "      <th>Financing_sub_cat</th>\n",
       "    </tr>\n",
       "  </thead>\n",
       "  <tbody>\n",
       "    <tr>\n",
       "      <th>0</th>\n",
       "      <td>24</td>\n",
       "      <td>Tax Credit Equity</td>\n",
       "      <td>187,828.00</td>\n",
       "      <td>Construction Financing Sources</td>\n",
       "      <td>PrairieViewApartments</td>\n",
       "      <td>Tax Credit</td>\n",
       "    </tr>\n",
       "    <tr>\n",
       "      <th>1</th>\n",
       "      <td>25</td>\n",
       "      <td>Construction Loan</td>\n",
       "      <td>4,709,536.00</td>\n",
       "      <td>Construction Financing Sources</td>\n",
       "      <td>PrairieViewApartments</td>\n",
       "      <td>Bank Loan</td>\n",
       "    </tr>\n",
       "    <tr>\n",
       "      <th>2</th>\n",
       "      <td>26</td>\n",
       "      <td>Other1</td>\n",
       "      <td>1,250,000.00</td>\n",
       "      <td>Construction Financing Sources</td>\n",
       "      <td>PrairieViewApartments</td>\n",
       "      <td>Other</td>\n",
       "    </tr>\n",
       "    <tr>\n",
       "      <th>3</th>\n",
       "      <td>27</td>\n",
       "      <td>Other2</td>\n",
       "      <td>249,750.00</td>\n",
       "      <td>Construction Financing Sources</td>\n",
       "      <td>PrairieViewApartments</td>\n",
       "      <td>Other</td>\n",
       "    </tr>\n",
       "    <tr>\n",
       "      <th>4</th>\n",
       "      <td>28</td>\n",
       "      <td>Other4</td>\n",
       "      <td>1,275,733.00</td>\n",
       "      <td>Construction Financing Sources</td>\n",
       "      <td>PrairieViewApartments</td>\n",
       "      <td>Other</td>\n",
       "    </tr>\n",
       "  </tbody>\n",
       "</table>\n",
       "</div>"
      ],
      "text/plain": [
       "   Unnamed: 0             Source Amount of Funds  \\\n",
       "0          24  Tax Credit Equity      187,828.00   \n",
       "1          25  Construction Loan    4,709,536.00   \n",
       "2          26             Other1    1,250,000.00   \n",
       "3          27             Other2      249,750.00   \n",
       "4          28             Other4    1,275,733.00   \n",
       "\n",
       "                     Funding Type              File Name Financing_sub_cat  \n",
       "0  Construction Financing Sources  PrairieViewApartments        Tax Credit  \n",
       "1  Construction Financing Sources  PrairieViewApartments         Bank Loan  \n",
       "2  Construction Financing Sources  PrairieViewApartments             Other  \n",
       "3  Construction Financing Sources  PrairieViewApartments             Other  \n",
       "4  Construction Financing Sources  PrairieViewApartments             Other  "
      ]
     },
     "execution_count": 29,
     "metadata": {},
     "output_type": "execute_result"
    }
   ],
   "source": [
    "df.head()"
   ]
  },
  {
   "cell_type": "code",
   "execution_count": 33,
   "metadata": {},
   "outputs": [],
   "source": [
    "df.drop([\"Unnamed: 0\"],axis=1).to_csv(\"Ohio_scraped_financing_info_Awarded_Only.csv\")"
   ]
  }
 ],
 "metadata": {
  "kernelspec": {
   "display_name": "Python 3",
   "language": "python",
   "name": "python3"
  },
  "language_info": {
   "codemirror_mode": {
    "name": "ipython",
    "version": 3
   },
   "file_extension": ".py",
   "mimetype": "text/x-python",
   "name": "python",
   "nbconvert_exporter": "python",
   "pygments_lexer": "ipython3",
   "version": "3.7.2"
  }
 },
 "nbformat": 4,
 "nbformat_minor": 2
}
